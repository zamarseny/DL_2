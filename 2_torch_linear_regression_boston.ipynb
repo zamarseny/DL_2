{
 "cells": [
  {
   "cell_type": "markdown",
   "metadata": {},
   "source": [
    "## Подготовка данных, нормализация, трейн, тест"
   ]
  },
  {
   "cell_type": "code",
   "execution_count": 1,
   "metadata": {},
   "outputs": [],
   "source": [
    "import torch\n",
    "import sklearn\n",
    "import numpy as np"
   ]
  },
  {
   "cell_type": "code",
   "execution_count": 2,
   "metadata": {},
   "outputs": [
    {
     "name": "stdout",
     "output_type": "stream",
     "text": [
      "      CRIM    ZN  INDUS  CHAS    NOX     RM   AGE     DIS  RAD    TAX  \\\n",
      "0  0.00632  18.0   2.31     0  0.538  6.575  65.2  4.0900    1  296.0   \n",
      "1  0.02731   0.0   7.07     0  0.469  6.421  78.9  4.9671    2  242.0   \n",
      "2  0.02729   0.0   7.07     0  0.469  7.185  61.1  4.9671    2  242.0   \n",
      "3  0.03237   0.0   2.18     0  0.458  6.998  45.8  6.0622    3  222.0   \n",
      "4  0.06905   0.0   2.18     0  0.458  7.147  54.2  6.0622    3  222.0   \n",
      "\n",
      "   PTRATIO       B  LSTAT  MEDV  \n",
      "0     15.3  396.90   4.98  24.0  \n",
      "1     17.8  396.90   9.14  21.6  \n",
      "2     17.8  392.83   4.03  34.7  \n",
      "3     18.7  394.63   2.94  33.4  \n",
      "4     18.7  396.90   5.33  36.2  \n"
     ]
    }
   ],
   "source": [
    "import pandas as pd # data processing, CSV file I/O (e.g. pd.read_csv)\n",
    "# Input data files are available in the \"../input/\" directory.\n",
    "# For example, running this (by clicking run or pressing Shift+Enter) will list the files in the input directory\n",
    "#import os\n",
    "#print(os.listdir(\"../input\"))\n",
    "# Any results you write to the current directory are saved as output.\n",
    "from pandas import read_csv\n",
    "#Lets load the dataset and sample some\n",
    "column_names = ['CRIM', 'ZN', 'INDUS', 'CHAS', 'NOX', 'RM', 'AGE', 'DIS', 'RAD', 'TAX', 'PTRATIO', 'B', 'LSTAT', 'MEDV']\n",
    "#data = read_csv('/home/zamarseny/Data_Science/handson-ml/datasets/housing/housing.csv', header=None, delimiter=r\"\\s+\", names=column_names)\n",
    "\n",
    "#data = read_csv('/home/zamarseny/Data_Science/handson-ml/datasets/housing/housing.csv', \\\n",
    "#                #header=None, \\\n",
    "#                delimiter=','\\\n",
    "                #, names=column_names\\\n",
    "#               )\n",
    "\n",
    "data = read_csv('./boston-house-prices/housing.csv', delimiter=r\"\\s+\", names=column_names)\n",
    "print(data.head(5))"
   ]
  },
  {
   "cell_type": "code",
   "execution_count": 3,
   "metadata": {},
   "outputs": [
    {
     "data": {
      "text/html": [
       "<div>\n",
       "<style scoped>\n",
       "    .dataframe tbody tr th:only-of-type {\n",
       "        vertical-align: middle;\n",
       "    }\n",
       "\n",
       "    .dataframe tbody tr th {\n",
       "        vertical-align: top;\n",
       "    }\n",
       "\n",
       "    .dataframe thead th {\n",
       "        text-align: right;\n",
       "    }\n",
       "</style>\n",
       "<table border=\"1\" class=\"dataframe\">\n",
       "  <thead>\n",
       "    <tr style=\"text-align: right;\">\n",
       "      <th></th>\n",
       "      <th>CRIM</th>\n",
       "      <th>ZN</th>\n",
       "      <th>INDUS</th>\n",
       "      <th>CHAS</th>\n",
       "      <th>NOX</th>\n",
       "      <th>RM</th>\n",
       "      <th>AGE</th>\n",
       "      <th>DIS</th>\n",
       "      <th>RAD</th>\n",
       "      <th>TAX</th>\n",
       "      <th>PTRATIO</th>\n",
       "      <th>B</th>\n",
       "      <th>LSTAT</th>\n",
       "      <th>MEDV</th>\n",
       "    </tr>\n",
       "  </thead>\n",
       "  <tbody>\n",
       "    <tr>\n",
       "      <th>0</th>\n",
       "      <td>0.00632</td>\n",
       "      <td>18.0</td>\n",
       "      <td>2.31</td>\n",
       "      <td>0</td>\n",
       "      <td>0.538</td>\n",
       "      <td>6.575</td>\n",
       "      <td>65.2</td>\n",
       "      <td>4.0900</td>\n",
       "      <td>1</td>\n",
       "      <td>296.0</td>\n",
       "      <td>15.3</td>\n",
       "      <td>396.90</td>\n",
       "      <td>4.98</td>\n",
       "      <td>24.0</td>\n",
       "    </tr>\n",
       "    <tr>\n",
       "      <th>1</th>\n",
       "      <td>0.02731</td>\n",
       "      <td>0.0</td>\n",
       "      <td>7.07</td>\n",
       "      <td>0</td>\n",
       "      <td>0.469</td>\n",
       "      <td>6.421</td>\n",
       "      <td>78.9</td>\n",
       "      <td>4.9671</td>\n",
       "      <td>2</td>\n",
       "      <td>242.0</td>\n",
       "      <td>17.8</td>\n",
       "      <td>396.90</td>\n",
       "      <td>9.14</td>\n",
       "      <td>21.6</td>\n",
       "    </tr>\n",
       "    <tr>\n",
       "      <th>2</th>\n",
       "      <td>0.02729</td>\n",
       "      <td>0.0</td>\n",
       "      <td>7.07</td>\n",
       "      <td>0</td>\n",
       "      <td>0.469</td>\n",
       "      <td>7.185</td>\n",
       "      <td>61.1</td>\n",
       "      <td>4.9671</td>\n",
       "      <td>2</td>\n",
       "      <td>242.0</td>\n",
       "      <td>17.8</td>\n",
       "      <td>392.83</td>\n",
       "      <td>4.03</td>\n",
       "      <td>34.7</td>\n",
       "    </tr>\n",
       "    <tr>\n",
       "      <th>3</th>\n",
       "      <td>0.03237</td>\n",
       "      <td>0.0</td>\n",
       "      <td>2.18</td>\n",
       "      <td>0</td>\n",
       "      <td>0.458</td>\n",
       "      <td>6.998</td>\n",
       "      <td>45.8</td>\n",
       "      <td>6.0622</td>\n",
       "      <td>3</td>\n",
       "      <td>222.0</td>\n",
       "      <td>18.7</td>\n",
       "      <td>394.63</td>\n",
       "      <td>2.94</td>\n",
       "      <td>33.4</td>\n",
       "    </tr>\n",
       "    <tr>\n",
       "      <th>4</th>\n",
       "      <td>0.06905</td>\n",
       "      <td>0.0</td>\n",
       "      <td>2.18</td>\n",
       "      <td>0</td>\n",
       "      <td>0.458</td>\n",
       "      <td>7.147</td>\n",
       "      <td>54.2</td>\n",
       "      <td>6.0622</td>\n",
       "      <td>3</td>\n",
       "      <td>222.0</td>\n",
       "      <td>18.7</td>\n",
       "      <td>396.90</td>\n",
       "      <td>5.33</td>\n",
       "      <td>36.2</td>\n",
       "    </tr>\n",
       "  </tbody>\n",
       "</table>\n",
       "</div>"
      ],
      "text/plain": [
       "      CRIM    ZN  INDUS  CHAS    NOX     RM   AGE     DIS  RAD    TAX  \\\n",
       "0  0.00632  18.0   2.31     0  0.538  6.575  65.2  4.0900    1  296.0   \n",
       "1  0.02731   0.0   7.07     0  0.469  6.421  78.9  4.9671    2  242.0   \n",
       "2  0.02729   0.0   7.07     0  0.469  7.185  61.1  4.9671    2  242.0   \n",
       "3  0.03237   0.0   2.18     0  0.458  6.998  45.8  6.0622    3  222.0   \n",
       "4  0.06905   0.0   2.18     0  0.458  7.147  54.2  6.0622    3  222.0   \n",
       "\n",
       "   PTRATIO       B  LSTAT  MEDV  \n",
       "0     15.3  396.90   4.98  24.0  \n",
       "1     17.8  396.90   9.14  21.6  \n",
       "2     17.8  392.83   4.03  34.7  \n",
       "3     18.7  394.63   2.94  33.4  \n",
       "4     18.7  396.90   5.33  36.2  "
      ]
     },
     "execution_count": 3,
     "metadata": {},
     "output_type": "execute_result"
    }
   ],
   "source": [
    "#data.describe()\n",
    "data.head()"
   ]
  },
  {
   "cell_type": "code",
   "execution_count": 4,
   "metadata": {
    "scrolled": true
   },
   "outputs": [
    {
     "data": {
      "text/html": [
       "<div>\n",
       "<style scoped>\n",
       "    .dataframe tbody tr th:only-of-type {\n",
       "        vertical-align: middle;\n",
       "    }\n",
       "\n",
       "    .dataframe tbody tr th {\n",
       "        vertical-align: top;\n",
       "    }\n",
       "\n",
       "    .dataframe thead th {\n",
       "        text-align: right;\n",
       "    }\n",
       "</style>\n",
       "<table border=\"1\" class=\"dataframe\">\n",
       "  <thead>\n",
       "    <tr style=\"text-align: right;\">\n",
       "      <th></th>\n",
       "      <th>CRIM</th>\n",
       "      <th>ZN</th>\n",
       "      <th>INDUS</th>\n",
       "      <th>CHAS</th>\n",
       "      <th>NOX</th>\n",
       "      <th>RM</th>\n",
       "      <th>AGE</th>\n",
       "      <th>DIS</th>\n",
       "      <th>RAD</th>\n",
       "      <th>TAX</th>\n",
       "      <th>PTRATIO</th>\n",
       "      <th>B</th>\n",
       "      <th>LSTAT</th>\n",
       "      <th>MEDV</th>\n",
       "    </tr>\n",
       "  </thead>\n",
       "  <tbody>\n",
       "    <tr>\n",
       "      <th>count</th>\n",
       "      <td>506.000000</td>\n",
       "      <td>506.000000</td>\n",
       "      <td>506.000000</td>\n",
       "      <td>506.000000</td>\n",
       "      <td>506.000000</td>\n",
       "      <td>506.000000</td>\n",
       "      <td>506.000000</td>\n",
       "      <td>506.000000</td>\n",
       "      <td>506.000000</td>\n",
       "      <td>506.000000</td>\n",
       "      <td>506.000000</td>\n",
       "      <td>506.000000</td>\n",
       "      <td>506.000000</td>\n",
       "      <td>506.000000</td>\n",
       "    </tr>\n",
       "    <tr>\n",
       "      <th>mean</th>\n",
       "      <td>3.613524</td>\n",
       "      <td>11.363636</td>\n",
       "      <td>11.136779</td>\n",
       "      <td>0.069170</td>\n",
       "      <td>0.554695</td>\n",
       "      <td>6.284634</td>\n",
       "      <td>68.574901</td>\n",
       "      <td>3.795043</td>\n",
       "      <td>9.549407</td>\n",
       "      <td>408.237154</td>\n",
       "      <td>18.455534</td>\n",
       "      <td>356.674032</td>\n",
       "      <td>12.653063</td>\n",
       "      <td>22.532806</td>\n",
       "    </tr>\n",
       "    <tr>\n",
       "      <th>std</th>\n",
       "      <td>8.601545</td>\n",
       "      <td>23.322453</td>\n",
       "      <td>6.860353</td>\n",
       "      <td>0.253994</td>\n",
       "      <td>0.115878</td>\n",
       "      <td>0.702617</td>\n",
       "      <td>28.148861</td>\n",
       "      <td>2.105710</td>\n",
       "      <td>8.707259</td>\n",
       "      <td>168.537116</td>\n",
       "      <td>2.164946</td>\n",
       "      <td>91.294864</td>\n",
       "      <td>7.141062</td>\n",
       "      <td>9.197104</td>\n",
       "    </tr>\n",
       "    <tr>\n",
       "      <th>min</th>\n",
       "      <td>0.006320</td>\n",
       "      <td>0.000000</td>\n",
       "      <td>0.460000</td>\n",
       "      <td>0.000000</td>\n",
       "      <td>0.385000</td>\n",
       "      <td>3.561000</td>\n",
       "      <td>2.900000</td>\n",
       "      <td>1.129600</td>\n",
       "      <td>1.000000</td>\n",
       "      <td>187.000000</td>\n",
       "      <td>12.600000</td>\n",
       "      <td>0.320000</td>\n",
       "      <td>1.730000</td>\n",
       "      <td>5.000000</td>\n",
       "    </tr>\n",
       "    <tr>\n",
       "      <th>25%</th>\n",
       "      <td>0.082045</td>\n",
       "      <td>0.000000</td>\n",
       "      <td>5.190000</td>\n",
       "      <td>0.000000</td>\n",
       "      <td>0.449000</td>\n",
       "      <td>5.885500</td>\n",
       "      <td>45.025000</td>\n",
       "      <td>2.100175</td>\n",
       "      <td>4.000000</td>\n",
       "      <td>279.000000</td>\n",
       "      <td>17.400000</td>\n",
       "      <td>375.377500</td>\n",
       "      <td>6.950000</td>\n",
       "      <td>17.025000</td>\n",
       "    </tr>\n",
       "    <tr>\n",
       "      <th>50%</th>\n",
       "      <td>0.256510</td>\n",
       "      <td>0.000000</td>\n",
       "      <td>9.690000</td>\n",
       "      <td>0.000000</td>\n",
       "      <td>0.538000</td>\n",
       "      <td>6.208500</td>\n",
       "      <td>77.500000</td>\n",
       "      <td>3.207450</td>\n",
       "      <td>5.000000</td>\n",
       "      <td>330.000000</td>\n",
       "      <td>19.050000</td>\n",
       "      <td>391.440000</td>\n",
       "      <td>11.360000</td>\n",
       "      <td>21.200000</td>\n",
       "    </tr>\n",
       "    <tr>\n",
       "      <th>75%</th>\n",
       "      <td>3.677082</td>\n",
       "      <td>12.500000</td>\n",
       "      <td>18.100000</td>\n",
       "      <td>0.000000</td>\n",
       "      <td>0.624000</td>\n",
       "      <td>6.623500</td>\n",
       "      <td>94.075000</td>\n",
       "      <td>5.188425</td>\n",
       "      <td>24.000000</td>\n",
       "      <td>666.000000</td>\n",
       "      <td>20.200000</td>\n",
       "      <td>396.225000</td>\n",
       "      <td>16.955000</td>\n",
       "      <td>25.000000</td>\n",
       "    </tr>\n",
       "    <tr>\n",
       "      <th>max</th>\n",
       "      <td>88.976200</td>\n",
       "      <td>100.000000</td>\n",
       "      <td>27.740000</td>\n",
       "      <td>1.000000</td>\n",
       "      <td>0.871000</td>\n",
       "      <td>8.780000</td>\n",
       "      <td>100.000000</td>\n",
       "      <td>12.126500</td>\n",
       "      <td>24.000000</td>\n",
       "      <td>711.000000</td>\n",
       "      <td>22.000000</td>\n",
       "      <td>396.900000</td>\n",
       "      <td>37.970000</td>\n",
       "      <td>50.000000</td>\n",
       "    </tr>\n",
       "  </tbody>\n",
       "</table>\n",
       "</div>"
      ],
      "text/plain": [
       "             CRIM          ZN       INDUS        CHAS         NOX          RM  \\\n",
       "count  506.000000  506.000000  506.000000  506.000000  506.000000  506.000000   \n",
       "mean     3.613524   11.363636   11.136779    0.069170    0.554695    6.284634   \n",
       "std      8.601545   23.322453    6.860353    0.253994    0.115878    0.702617   \n",
       "min      0.006320    0.000000    0.460000    0.000000    0.385000    3.561000   \n",
       "25%      0.082045    0.000000    5.190000    0.000000    0.449000    5.885500   \n",
       "50%      0.256510    0.000000    9.690000    0.000000    0.538000    6.208500   \n",
       "75%      3.677082   12.500000   18.100000    0.000000    0.624000    6.623500   \n",
       "max     88.976200  100.000000   27.740000    1.000000    0.871000    8.780000   \n",
       "\n",
       "              AGE         DIS         RAD         TAX     PTRATIO           B  \\\n",
       "count  506.000000  506.000000  506.000000  506.000000  506.000000  506.000000   \n",
       "mean    68.574901    3.795043    9.549407  408.237154   18.455534  356.674032   \n",
       "std     28.148861    2.105710    8.707259  168.537116    2.164946   91.294864   \n",
       "min      2.900000    1.129600    1.000000  187.000000   12.600000    0.320000   \n",
       "25%     45.025000    2.100175    4.000000  279.000000   17.400000  375.377500   \n",
       "50%     77.500000    3.207450    5.000000  330.000000   19.050000  391.440000   \n",
       "75%     94.075000    5.188425   24.000000  666.000000   20.200000  396.225000   \n",
       "max    100.000000   12.126500   24.000000  711.000000   22.000000  396.900000   \n",
       "\n",
       "            LSTAT        MEDV  \n",
       "count  506.000000  506.000000  \n",
       "mean    12.653063   22.532806  \n",
       "std      7.141062    9.197104  \n",
       "min      1.730000    5.000000  \n",
       "25%      6.950000   17.025000  \n",
       "50%     11.360000   21.200000  \n",
       "75%     16.955000   25.000000  \n",
       "max     37.970000   50.000000  "
      ]
     },
     "execution_count": 4,
     "metadata": {},
     "output_type": "execute_result"
    }
   ],
   "source": [
    "data.describe()"
   ]
  },
  {
   "cell_type": "code",
   "execution_count": 5,
   "metadata": {},
   "outputs": [],
   "source": [
    "labels=data.MEDV\n",
    "features=data.drop(columns='MEDV')"
   ]
  },
  {
   "cell_type": "code",
   "execution_count": 6,
   "metadata": {},
   "outputs": [
    {
     "data": {
      "text/html": [
       "<div>\n",
       "<style scoped>\n",
       "    .dataframe tbody tr th:only-of-type {\n",
       "        vertical-align: middle;\n",
       "    }\n",
       "\n",
       "    .dataframe tbody tr th {\n",
       "        vertical-align: top;\n",
       "    }\n",
       "\n",
       "    .dataframe thead th {\n",
       "        text-align: right;\n",
       "    }\n",
       "</style>\n",
       "<table border=\"1\" class=\"dataframe\">\n",
       "  <thead>\n",
       "    <tr style=\"text-align: right;\">\n",
       "      <th></th>\n",
       "      <th>CRIM</th>\n",
       "      <th>ZN</th>\n",
       "      <th>INDUS</th>\n",
       "      <th>CHAS</th>\n",
       "      <th>NOX</th>\n",
       "      <th>RM</th>\n",
       "      <th>AGE</th>\n",
       "      <th>DIS</th>\n",
       "      <th>RAD</th>\n",
       "      <th>TAX</th>\n",
       "      <th>PTRATIO</th>\n",
       "      <th>B</th>\n",
       "      <th>LSTAT</th>\n",
       "    </tr>\n",
       "  </thead>\n",
       "  <tbody>\n",
       "    <tr>\n",
       "      <th>0</th>\n",
       "      <td>0.00632</td>\n",
       "      <td>18.0</td>\n",
       "      <td>2.31</td>\n",
       "      <td>0</td>\n",
       "      <td>0.538</td>\n",
       "      <td>6.575</td>\n",
       "      <td>65.2</td>\n",
       "      <td>4.0900</td>\n",
       "      <td>1</td>\n",
       "      <td>296.0</td>\n",
       "      <td>15.3</td>\n",
       "      <td>396.90</td>\n",
       "      <td>4.98</td>\n",
       "    </tr>\n",
       "    <tr>\n",
       "      <th>1</th>\n",
       "      <td>0.02731</td>\n",
       "      <td>0.0</td>\n",
       "      <td>7.07</td>\n",
       "      <td>0</td>\n",
       "      <td>0.469</td>\n",
       "      <td>6.421</td>\n",
       "      <td>78.9</td>\n",
       "      <td>4.9671</td>\n",
       "      <td>2</td>\n",
       "      <td>242.0</td>\n",
       "      <td>17.8</td>\n",
       "      <td>396.90</td>\n",
       "      <td>9.14</td>\n",
       "    </tr>\n",
       "    <tr>\n",
       "      <th>2</th>\n",
       "      <td>0.02729</td>\n",
       "      <td>0.0</td>\n",
       "      <td>7.07</td>\n",
       "      <td>0</td>\n",
       "      <td>0.469</td>\n",
       "      <td>7.185</td>\n",
       "      <td>61.1</td>\n",
       "      <td>4.9671</td>\n",
       "      <td>2</td>\n",
       "      <td>242.0</td>\n",
       "      <td>17.8</td>\n",
       "      <td>392.83</td>\n",
       "      <td>4.03</td>\n",
       "    </tr>\n",
       "    <tr>\n",
       "      <th>3</th>\n",
       "      <td>0.03237</td>\n",
       "      <td>0.0</td>\n",
       "      <td>2.18</td>\n",
       "      <td>0</td>\n",
       "      <td>0.458</td>\n",
       "      <td>6.998</td>\n",
       "      <td>45.8</td>\n",
       "      <td>6.0622</td>\n",
       "      <td>3</td>\n",
       "      <td>222.0</td>\n",
       "      <td>18.7</td>\n",
       "      <td>394.63</td>\n",
       "      <td>2.94</td>\n",
       "    </tr>\n",
       "    <tr>\n",
       "      <th>4</th>\n",
       "      <td>0.06905</td>\n",
       "      <td>0.0</td>\n",
       "      <td>2.18</td>\n",
       "      <td>0</td>\n",
       "      <td>0.458</td>\n",
       "      <td>7.147</td>\n",
       "      <td>54.2</td>\n",
       "      <td>6.0622</td>\n",
       "      <td>3</td>\n",
       "      <td>222.0</td>\n",
       "      <td>18.7</td>\n",
       "      <td>396.90</td>\n",
       "      <td>5.33</td>\n",
       "    </tr>\n",
       "  </tbody>\n",
       "</table>\n",
       "</div>"
      ],
      "text/plain": [
       "      CRIM    ZN  INDUS  CHAS    NOX     RM   AGE     DIS  RAD    TAX  \\\n",
       "0  0.00632  18.0   2.31     0  0.538  6.575  65.2  4.0900    1  296.0   \n",
       "1  0.02731   0.0   7.07     0  0.469  6.421  78.9  4.9671    2  242.0   \n",
       "2  0.02729   0.0   7.07     0  0.469  7.185  61.1  4.9671    2  242.0   \n",
       "3  0.03237   0.0   2.18     0  0.458  6.998  45.8  6.0622    3  222.0   \n",
       "4  0.06905   0.0   2.18     0  0.458  7.147  54.2  6.0622    3  222.0   \n",
       "\n",
       "   PTRATIO       B  LSTAT  \n",
       "0     15.3  396.90   4.98  \n",
       "1     17.8  396.90   9.14  \n",
       "2     17.8  392.83   4.03  \n",
       "3     18.7  394.63   2.94  \n",
       "4     18.7  396.90   5.33  "
      ]
     },
     "execution_count": 6,
     "metadata": {},
     "output_type": "execute_result"
    }
   ],
   "source": [
    "features.head()"
   ]
  },
  {
   "cell_type": "code",
   "execution_count": 9,
   "metadata": {},
   "outputs": [
    {
     "data": {
      "text/plain": [
       "(506, 13)"
      ]
     },
     "execution_count": 9,
     "metadata": {},
     "output_type": "execute_result"
    }
   ],
   "source": [
    "features.shape"
   ]
  },
  {
   "cell_type": "code",
   "execution_count": 10,
   "metadata": {
    "scrolled": false
   },
   "outputs": [
    {
     "data": {
      "text/plain": [
       "<seaborn.axisgrid.PairGrid at 0x7f32e199ebe0>"
      ]
     },
     "execution_count": 10,
     "metadata": {},
     "output_type": "execute_result"
    }
   ],
   "source": [
    "import seaborn as sns\n",
    "sns.pairplot(data)\n"
   ]
  },
  {
   "cell_type": "code",
   "execution_count": null,
   "metadata": {},
   "outputs": [],
   "source": [
    "#c предпоследней величиной, связанной с доходом (13. LSTAT: % lower status of the population) \n",
    "#видно зависимость похожую на обратную пропрорциональость"
   ]
  },
  {
   "cell_type": "code",
   "execution_count": 12,
   "metadata": {},
   "outputs": [],
   "source": [
    "from sklearn import preprocessing"
   ]
  },
  {
   "cell_type": "code",
   "execution_count": 15,
   "metadata": {},
   "outputs": [],
   "source": [
    "norm=preprocessing.StandardScaler().fit_transform(features)"
   ]
  },
  {
   "cell_type": "code",
   "execution_count": 16,
   "metadata": {},
   "outputs": [
    {
     "data": {
      "text/plain": [
       "(506, 13)"
      ]
     },
     "execution_count": 16,
     "metadata": {},
     "output_type": "execute_result"
    }
   ],
   "source": [
    "norm.shape"
   ]
  },
  {
   "cell_type": "code",
   "execution_count": 17,
   "metadata": {},
   "outputs": [
    {
     "data": {
      "text/plain": [
       "405"
      ]
     },
     "execution_count": 17,
     "metadata": {},
     "output_type": "execute_result"
    }
   ],
   "source": [
    "train_lenght=round(norm.shape[0]*0.8)\n",
    "train_lenght"
   ]
  },
  {
   "cell_type": "code",
   "execution_count": 18,
   "metadata": {},
   "outputs": [],
   "source": [
    "X_train=torch.tensor(norm[:train_lenght], dtype=torch.float)\n",
    "y_train=torch.tensor(labels[:train_lenght], dtype=torch.float)\n",
    "X_test=torch.tensor(norm[train_lenght+1:], dtype=torch.float)\n",
    "y_test=torch.tensor(labels[train_lenght+1:].values, dtype=torch.float)"
   ]
  },
  {
   "cell_type": "markdown",
   "metadata": {},
   "source": [
    "## Решение через Torch"
   ]
  },
  {
   "cell_type": "code",
   "execution_count": 19,
   "metadata": {},
   "outputs": [
    {
     "data": {
      "text/plain": [
       "tensor([11.9000, 27.9000, 17.2000, 27.5000, 15.0000, 17.2000, 17.9000, 16.3000,\n",
       "         7.0000,  7.2000,  7.5000, 10.4000,  8.8000,  8.4000, 16.7000, 14.2000,\n",
       "        20.8000, 13.4000, 11.7000,  8.3000, 10.2000, 10.9000, 11.0000,  9.5000,\n",
       "        14.5000, 14.1000, 16.1000, 14.3000, 11.7000, 13.4000,  9.6000,  8.7000,\n",
       "         8.4000, 12.8000, 10.5000, 17.1000, 18.4000, 15.4000, 10.8000, 11.8000,\n",
       "        14.9000, 12.6000, 14.1000, 13.0000, 13.4000, 15.2000, 16.1000, 17.8000,\n",
       "        14.9000, 14.1000, 12.7000, 13.5000, 14.9000, 20.0000, 16.4000, 17.7000,\n",
       "        19.5000, 20.2000, 21.4000, 19.9000, 19.0000, 19.1000, 19.1000, 20.1000,\n",
       "        19.9000, 19.6000, 23.2000, 29.8000, 13.8000, 13.3000, 16.7000, 12.0000,\n",
       "        14.6000, 21.4000, 23.0000, 23.7000, 25.0000, 21.8000, 20.6000, 21.2000,\n",
       "        19.1000, 20.6000, 15.2000,  7.0000,  8.1000, 13.6000, 20.1000, 21.8000,\n",
       "        24.5000, 23.1000, 19.7000, 18.3000, 21.2000, 17.5000, 16.8000, 22.4000,\n",
       "        20.6000, 23.9000, 22.0000, 11.9000])"
      ]
     },
     "execution_count": 19,
     "metadata": {},
     "output_type": "execute_result"
    }
   ],
   "source": [
    "#y[:train_lenght]\n",
    "#y[train_lenght+1:].values\n",
    "#labels[train_lenght+1:]\n",
    "y_test"
   ]
  },
  {
   "cell_type": "code",
   "execution_count": 20,
   "metadata": {},
   "outputs": [],
   "source": [
    "from torch.utils.data import TensorDataset, DataLoader"
   ]
  },
  {
   "cell_type": "code",
   "execution_count": 21,
   "metadata": {},
   "outputs": [
    {
     "name": "stdout",
     "output_type": "stream",
     "text": [
      "tensor([[-0.4025,  0.5853, -0.8764, -0.2726, -0.8785, -0.1989, -1.4002,  1.9109,\n",
      "         -0.1781, -0.7379,  0.5754,  0.3729, -0.8120],\n",
      "        [ 0.6962, -0.4877,  1.0160, -0.2726,  1.1947,  0.1701,  1.1175, -1.0249,\n",
      "          1.6612,  1.5309,  0.8066,  0.2131,  1.0733],\n",
      "        [-0.3180, -0.4877,  1.5690, -0.2726,  0.5987, -0.9227,  0.9290, -0.8629,\n",
      "         -0.6380,  0.1708,  1.2689,  0.4411,  0.7972],\n",
      "        [ 0.3404, -0.4877,  1.0160,  3.6684,  0.6591,  1.0419,  1.0286, -1.2325,\n",
      "          1.6612,  1.5309,  0.8066,  0.3879, -1.3587],\n",
      "        [-0.4125, -0.4877,  2.1176, -0.2726,  0.2272, -0.5907,  0.0400, -0.7308,\n",
      "         -0.8679, -1.3081,  0.2980,  0.3561,  0.2407],\n",
      "        [-0.4057, -0.4877, -0.6167, -0.2726, -0.9217,  0.6915, -2.3354,  0.9155,\n",
      "         -0.7529, -1.0408, -0.2569,  0.3151, -1.0952],\n",
      "        [-0.2629, -0.4877, -0.4373, -0.2726, -0.1442, -0.3029,  1.1175,  0.1806,\n",
      "         -0.6380, -0.6013,  1.1765,  0.2199,  0.0542],\n",
      "        [-0.4152,  1.7656, -0.8487, -0.2726, -1.2931,  0.0433, -0.8170,  1.6743,\n",
      "         -0.4080, -0.6844, -0.8579,  0.4411, -0.7083],\n",
      "        [ 0.7335, -0.4877,  1.0160, -0.2726,  1.1947, -0.6164,  0.3280, -1.0908,\n",
      "          1.6612,  1.5309,  0.8066, -0.2030,  2.4274],\n",
      "        [-0.4139, -0.4877, -1.1274, -0.2726, -0.5675,  1.0291,  0.6303, -0.1775,\n",
      "         -0.8679, -0.8210, -0.3031,  0.4411, -1.0027],\n",
      "        [-0.4164,  0.9715, -0.7364, -0.2726, -1.0512,  0.4350, -1.0019,  0.8065,\n",
      "         -0.2931, -0.4706, -1.0891,  0.4284, -0.4420],\n",
      "        [-0.4041, -0.4877, -0.6167, -0.2726, -0.9217, -0.1647, -2.2039,  0.9155,\n",
      "         -0.7529, -1.0408, -0.2569,  0.2927, -0.9592],\n",
      "        [-0.3472, -0.4877, -0.4373, -0.2726, -0.1442, -0.4782, -0.2409,  0.4338,\n",
      "         -0.6380, -0.6013,  1.1765,  0.4411, -0.6158],\n",
      "        [ 2.3315, -0.4877,  1.0160, -0.2726,  1.0047,  0.1359,  0.9824, -1.1451,\n",
      "          1.6612,  1.5309,  0.8066,  0.4411,  1.5471],\n",
      "        [-0.4128, -0.4877, -1.1522, -0.2726, -0.8180, -0.5936, -1.5211,  0.6748,\n",
      "         -0.6380,  0.1293, -0.7192,  0.2825, -0.3761],\n",
      "        [ 0.8722, -0.4877,  1.0160, -0.2726,  0.9788, -1.9641,  1.1175, -1.2459,\n",
      "          1.6612,  1.5309,  0.8066,  0.4411,  3.1002],\n",
      "        [-0.3938, -0.4877, -0.6167, -0.2726, -0.9217, -0.3628,  0.6019,  0.9005,\n",
      "         -0.7529, -1.0408, -0.2569,  0.3954,  0.8616],\n",
      "        [-0.4130, -0.4877, -0.7553, -0.2726, -0.4811, -0.5010, -0.0133, -0.2067,\n",
      "         -0.5230, -0.7676,  0.3442,  0.4411, -0.4167],\n",
      "        [-0.1358, -0.4877,  1.2319, -0.2726,  2.7323, -1.4427,  0.9041, -0.9786,\n",
      "         -0.5230, -0.0311, -1.7364, -2.9389,  0.4888],\n",
      "        [-0.2642, -0.4877,  1.2319, -0.2726,  0.4346, -0.3115,  1.1175, -0.9687,\n",
      "         -0.5230, -0.0311, -1.7364, -0.0305, -0.8723],\n",
      "        [-0.4093,  1.2291, -0.6897, -0.2726, -0.9303,  0.8112, -0.9166,  0.2245,\n",
      "         -0.6380, -0.9161, -0.3956,  0.4411, -1.3559],\n",
      "        [-0.4130,  2.5166, -1.2981, -0.2726, -1.3363,  0.0860, -1.7238,  1.9170,\n",
      "         -0.5230, -0.2984, -1.6902,  0.1268, -1.0770],\n",
      "        [-0.3910, -0.4877, -0.6167, -0.2726, -0.9217, -1.2617,  0.9504,  0.9864,\n",
      "         -0.7529, -1.0408, -0.2569,  0.4411,  2.5451],\n",
      "        [-0.4042,  0.4565, -0.7699, -0.2726, -1.0685,  0.2883, -1.9763,  1.7121,\n",
      "         -0.2931, -0.4647,  0.2980,  0.4343, -0.9466],\n",
      "        [-0.4081,  2.9458, -1.3463, -0.2726, -1.2240, -0.4967, -1.7451,  3.2281,\n",
      "         -0.6380, -0.4409,  1.6388,  0.2123, -0.9929],\n",
      "        [-0.3857,  0.3707, -0.6094, -0.2726, -0.7835, -0.6107, -0.9415,  0.3014,\n",
      "         -0.7529, -1.1002,  0.0668,  0.3506,  0.0486],\n",
      "        [-0.3776,  0.4565, -0.7699, -0.2726, -1.0685,  2.8128, -2.1399,  2.4299,\n",
      "         -0.2931, -0.4647,  0.2980,  0.4411, -1.2774],\n",
      "        [-0.3956,  0.4565, -0.7699, -0.2726, -1.0685,  0.2185, -2.1221,  1.7121,\n",
      "         -0.2931, -0.4647,  0.2980,  0.2236, -1.2704],\n",
      "        [-0.4162, -0.4877, -0.8677, -0.2726, -0.3429,  0.0361, -1.0695,  1.2661,\n",
      "         -0.5230, -1.0942,  0.8066,  0.3588, -0.8275],\n",
      "        [-0.4056, -0.4877, -0.3760, -0.2726, -0.2997,  0.2698,  1.0144, -0.6475,\n",
      "         -0.5230, -0.1440,  1.1302,  0.4229, -0.0537],\n",
      "        [-0.4151, -0.4877, -1.1274, -0.2726, -0.5675,  0.1886, -0.0880, -0.3341,\n",
      "         -0.8679, -0.8210, -0.3031,  0.3893, -0.5387],\n",
      "        [ 2.4183, -0.4877,  1.0160, -0.2726,  1.2552, -2.3259,  1.1175, -1.1066,\n",
      "          1.6612,  1.5309,  0.8066,  0.4411,  2.1905],\n",
      "        [-0.4135, -0.4877, -1.2660, -0.2726, -0.5761, -0.1875,  0.0080, -0.2450,\n",
      "         -0.7529, -1.2784, -0.3031,  0.3337,  0.0697],\n",
      "        [-0.4167, -0.4877, -0.8677, -0.2726, -0.3429, -0.3215, -1.1122,  0.4835,\n",
      "         -0.5230, -1.0942,  0.8066,  0.4327, -0.5807],\n",
      "        [-0.2110, -0.4877,  1.2319, -0.2726,  0.4346, -0.5807,  0.3778, -0.6508,\n",
      "         -0.5230, -0.0311, -1.7364, -1.4151, -0.0719],\n",
      "        [-0.4108, -0.4877, -1.2660, -0.2726, -0.5761, -0.9697,  0.7548, -0.3837,\n",
      "         -0.7529, -1.2784, -0.3031,  0.3764,  0.1860],\n",
      "        [-0.3441,  0.3707, -1.0457, -0.2726,  0.7974,  0.7941,  1.1175, -0.8482,\n",
      "         -0.5230, -0.8567, -2.5224,  0.3866, -0.8064],\n",
      "        [-0.4052, -0.4877, -0.1644, -0.2726, -0.0665, -0.1548,  0.1396, -0.5062,\n",
      "         -0.4080,  0.1411, -0.3031,  0.4016, -0.0859],\n",
      "        [ 1.2475, -0.4877,  1.0160, -0.2726,  1.2552, -2.0011,  1.1175, -1.0484,\n",
      "          1.6612,  1.5309,  0.8066,  0.1781,  2.5185],\n",
      "        [-0.2547, -0.4877,  1.2319, -0.2726,  2.7323,  0.3211,  1.1175, -0.9646,\n",
      "         -0.5230, -0.0311, -1.7364,  0.0837, -0.7377]]) tensor([23.3000, 12.1000, 14.3000, 50.0000, 22.0000, 26.6000, 14.5000, 22.3000,\n",
      "         6.3000, 23.6000, 22.0000, 25.3000, 20.4000, 13.1000, 19.3000, 13.8000,\n",
      "        16.6000, 18.9000, 13.1000, 24.3000, 32.0000, 22.5000, 14.4000, 24.4000,\n",
      "        20.6000, 21.1000, 42.8000, 24.8000, 20.7000, 19.8000, 22.6000, 10.5000,\n",
      "        29.6000, 20.6000, 23.8000, 26.4000, 30.1000, 21.2000, 10.2000, 23.3000])\n"
     ]
    }
   ],
   "source": [
    "batch_size = 40\n",
    "dataset = TensorDataset(X_train, y_train)\n",
    "# Randomly reading mini-batches\n",
    "data_iter = DataLoader(dataset, batch_size, shuffle=True)\n",
    "\n",
    "# Read a batch to see how it works\n",
    "for X, y in data_iter:\n",
    "    print(X, y)\n",
    "    break"
   ]
  },
  {
   "cell_type": "code",
   "execution_count": 53,
   "metadata": {},
   "outputs": [],
   "source": [
    "model = torch.nn.Sequential(torch.nn.Linear(13, 1))"
   ]
  },
  {
   "cell_type": "code",
   "execution_count": 54,
   "metadata": {},
   "outputs": [],
   "source": [
    "loss = torch.nn.MSELoss(reduction='mean')"
   ]
  },
  {
   "cell_type": "code",
   "execution_count": 55,
   "metadata": {},
   "outputs": [],
   "source": [
    "trainer = torch.optim.SGD(model.parameters(), lr=0.001)"
   ]
  },
  {
   "cell_type": "code",
   "execution_count": 56,
   "metadata": {},
   "outputs": [
    {
     "name": "stdout",
     "output_type": "stream",
     "text": [
      "epoch 0, loss: 602.273682\n",
      "epoch 1000, loss: 22.913795\n",
      "epoch 2000, loss: 22.752312\n",
      "epoch 3000, loss: 22.745642\n",
      "epoch 4000, loss: 22.740953\n",
      "epoch 5000, loss: 22.748760\n",
      "epoch 6000, loss: 22.741524\n",
      "epoch 7000, loss: 22.740494\n",
      "epoch 8000, loss: 22.763018\n",
      "epoch 9000, loss: 22.740828\n",
      "epoch 10000, loss: 22.740429\n",
      "epoch 11000, loss: 22.741423\n",
      "epoch 12000, loss: 22.744722\n",
      "epoch 13000, loss: 22.742481\n",
      "epoch 14000, loss: 22.742142\n",
      "epoch 15000, loss: 22.742987\n"
     ]
    }
   ],
   "source": [
    "num_epochs = 16000\n",
    "for epoch in range(0, num_epochs):\n",
    "    for X, y in data_iter:\n",
    "        trainer.zero_grad()\n",
    "        l = loss(model.forward(X).reshape(-1), y)\n",
    "        l.backward()\n",
    "        trainer.step()\n",
    "    l = loss(model.forward(X_train).reshape(-1), y_train)\n",
    "    if epoch%1000==0:\n",
    "        print('epoch %d, loss: %f' % (epoch, l.item()))\n",
    "    #print('w', model[0].weight.data)\n",
    "    #print('b', model[0].bias.data)"
   ]
  },
  {
   "cell_type": "code",
   "execution_count": 57,
   "metadata": {},
   "outputs": [
    {
     "name": "stdout",
     "output_type": "stream",
     "text": [
      "torch.Size([100, 13]) torch.Size([1, 13])\n",
      "torch.Size([100]) torch.Size([100])\n"
     ]
    }
   ],
   "source": [
    "w = model[0].weight.data\n",
    "\n",
    "b = model[0].bias.data\n",
    "print(X_test.shape, w.shape)\n",
    "print((torch.mv(X_test, w[0])+b).shape, y_test.shape)"
   ]
  },
  {
   "cell_type": "code",
   "execution_count": 58,
   "metadata": {
    "scrolled": true
   },
   "outputs": [],
   "source": [
    "#(torch.mm(X_test, w.t())+b)[0]-y_test\n",
    "y_pred_torch=torch.mv(X_test, w[0])+b\n",
    "y_pred_train=torch.mv(X_train, w[0])+b\n",
    "err_torch=y_pred_torch-y_test"
   ]
  },
  {
   "cell_type": "code",
   "execution_count": 59,
   "metadata": {},
   "outputs": [],
   "source": [
    "import matplotlib.pyplot as plt"
   ]
  },
  {
   "cell_type": "code",
   "execution_count": 67,
   "metadata": {},
   "outputs": [
    {
     "data": {
      "text/plain": [
       "Text(0, 0.5, 'y_pred')"
      ]
     },
     "execution_count": 67,
     "metadata": {},
     "output_type": "execute_result"
    },
    {
     "data": {
      "image/png": "[encoded data removed]",
      "text/plain": [
       "<Figure size 432x288 with 1 Axes>"
      ]
     },
     "metadata": {
      "needs_background": "light"
     },
     "output_type": "display_data"
    }
   ],
   "source": [
    "plt.scatter(np.array(y_test), np.array(torch.mv(X_test, w[0])+b))\n",
    "plt.xlim(0, 35)\n",
    "plt.ylim(0, 35)\n",
    "plt.xlabel('y_true')\n",
    "plt.ylabel('y_pred')"
   ]
  },
  {
   "cell_type": "code",
   "execution_count": 80,
   "metadata": {},
   "outputs": [
    {
     "name": "stdout",
     "output_type": "stream",
     "text": [
      "0.7353541996518285\n"
     ]
    }
   ],
   "source": [
    "from sklearn.metrics import r2_score\n",
    "print(r2_score(y_train, y_pred_train))\n",
    "#print(r2_score(y_test, y_pred_torch))"
   ]
  },
  {
   "cell_type": "markdown",
   "metadata": {},
   "source": [
    "## Sklearn"
   ]
  },
  {
   "cell_type": "code",
   "execution_count": 63,
   "metadata": {},
   "outputs": [
    {
     "name": "stdout",
     "output_type": "stream",
     "text": [
      "0.7354553695297368\n",
      "[-1.6726508   1.026751    0.35737726  0.47912702 -1.7303704   3.3419917\n",
      "  0.07377152 -2.7366385   4.003384   -2.6220543  -1.7545723  -0.19896609\n",
      " -3.7918205 ]\n",
      "23.128138\n",
      "[ -5.1505775   -6.54335     -1.761281    -3.745264     1.9916363\n",
      "   5.1705303  -13.126633    -3.782072   -11.076225     7.553505\n",
      "  12.0624695   -1.2783413   -2.56495     12.147236     5.5128\n",
      "   6.4788713   -0.45674515   5.7299385    8.141244     6.7349854\n",
      "  11.056401     6.586874     8.354248     9.082161     8.753153\n",
      "  10.047049    10.646799     8.391234     8.981301     5.2184715\n",
      "  10.693552     5.6826077    1.1776094    1.3715153    2.4699974\n",
      "   2.2114754    2.4328918    4.715004     3.5507822    6.050994\n",
      "   5.8275223    7.3914413    5.1029835    7.3321743   10.131845\n",
      "   7.177844     4.7874374    7.9025803    7.0782604    8.108799\n",
      "   6.3469534    5.5062065    5.7263355    0.39237404   6.8971424\n",
      "   4.946575     2.396202     4.69569      0.683588     0.42460823\n",
      "   1.5502625    0.19381142  -1.2107296   -0.93567467   2.1101017\n",
      "   5.2362404    1.435482    -1.3678188    3.833974     5.394349\n",
      "   5.913023     0.08519268   6.110779     1.5916824    2.1883907\n",
      "   5.679615     6.141926     0.92588043   0.95565414   3.3091774\n",
      "   2.379259     2.3790379   -4.8592253    0.2139988   -5.4862976\n",
      "  -0.7716217   -5.1334734   -1.8268661   -4.374546    -6.875883\n",
      "  -6.604294     0.336771    -0.24386215   0.20277405   3.3695297\n",
      "   1.3535099    1.4762669    4.2708683    4.5633965   10.112967  ]\n"
     ]
    }
   ],
   "source": [
    "from sklearn.linear_model import LinearRegression\n",
    "#X = np.array([[1, 1], [1, 2], [2, 2], [2, 3]])\n",
    "#>>> # y = 1 * x_0 + 2 * x_1 + 3\n",
    "#>>> y = np.dot(X, np.array([1, 2])) + 3\n",
    "reg = LinearRegression().fit(np.array(X_train), np.array(y_train))\n",
    "print(reg.score(X_train, y_train))\n",
    "print(reg.coef_)\n",
    "#array([1., 2.])\n",
    "print(reg.intercept_)\n",
    "y_pred=reg.predict(np.array(X_test))\n",
    "print(reg.predict(np.array(X_test))-np.array(y_test))"
   ]
  },
  {
   "cell_type": "markdown",
   "metadata": {},
   "source": [
    "## Сравнение коэффициентов"
   ]
  },
  {
   "cell_type": "code",
   "execution_count": 79,
   "metadata": {},
   "outputs": [
    {
     "data": {
      "text/plain": [
       "(array([[-0.00512445,  0.01248467,  0.02947715,  0.03005901, -0.03398669,\n",
       "          0.04197073,  0.00782532,  0.04327345,  0.0385251 ,  0.021873  ,\n",
       "         -0.00166976,  0.04236767, -0.01341677]], dtype=float32),\n",
       " array([0.01808167], dtype=float32))"
      ]
     },
     "execution_count": 79,
     "metadata": {},
     "output_type": "execute_result"
    }
   ],
   "source": [
    "w.numpy()-reg.coef_, b.numpy()-reg.intercept_"
   ]
  },
  {
   "cell_type": "code",
   "execution_count": null,
   "metadata": {},
   "outputs": [],
   "source": [
    "#ошибки в коэффициентах во втором знаке. Можно считать, что верно\n",
    "#Так и должно быть, поскольку оптимальные коээфициенты - единственные."
   ]
  },
  {
   "cell_type": "code",
   "execution_count": 78,
   "metadata": {},
   "outputs": [
    {
     "data": {
      "text/plain": [
       "0.9600052941463108"
      ]
     },
     "execution_count": 78,
     "metadata": {},
     "output_type": "execute_result"
    }
   ],
   "source": [
    "np.sqrt(sum((y_pred-y_pred_torch.numpy())*(y_pred-y_pred_torch.numpy())))#.sum()"
   ]
  },
  {
   "cell_type": "code",
   "execution_count": 76,
   "metadata": {},
   "outputs": [
    {
     "data": {
      "text/plain": [
       "0.9600053"
      ]
     },
     "execution_count": 76,
     "metadata": {},
     "output_type": "execute_result"
    }
   ],
   "source": [
    "np.linalg.norm(y_pred-y_pred_torch.numpy())"
   ]
  },
  {
   "cell_type": "code",
   "execution_count": 81,
   "metadata": {},
   "outputs": [
    {
     "data": {
      "text/plain": [
       "array([ 0.09818459, -0.00051117,  0.01007748, -0.00998878,  0.14237595,\n",
       "        0.06991005,  0.22116661,  0.08329296,  0.24706459,  0.1217556 ,\n",
       "        0.09600258,  0.14985466,  0.17316628,  0.09180641, -0.03188896,\n",
       "       -0.00840378, -0.00376892,  0.11683464,  0.13236046,  0.15266323,\n",
       "        0.11002541,  0.12923813,  0.08735657,  0.09334946,  0.04510307,\n",
       "        0.01886749,  0.02209854,  0.059618  ,  0.07599258,  0.07016945,\n",
       "        0.1134758 ,  0.15659428,  0.1605053 ,  0.00146866, -0.00190639,\n",
       "       -0.05216408, -0.05297279, -0.05735779,  0.06192398,  0.1151638 ,\n",
       "       -0.02193451, -0.0523243 , -0.05926704, -0.0272522 ,  0.08880043,\n",
       "       -0.07289886, -0.06489754, -0.12908745,  0.08719063,  0.0782032 ,\n",
       "        0.12805367,  0.1299305 , -0.01934814, -0.06640816, -0.03470993,\n",
       "       -0.0814724 , -0.08189774, -0.10294533, -0.0930233 , -0.03549576,\n",
       "        0.09797859, -0.05727005, -0.07162094, -0.07407188, -0.11545563,\n",
       "       -0.1423626 , -0.12873459, -0.137434  , -0.03450966, -0.04105186,\n",
       "       -0.10699463,  0.00621891, -0.07756233, -0.08174896, -0.14625931,\n",
       "       -0.18150139, -0.20469093, -0.12517929, -0.0939312 , -0.14131927,\n",
       "       -0.12048149, -0.09756279,  0.00107098,  0.03809643,  0.0786438 ,\n",
       "       -0.03092384, -0.04366779,  0.07557487,  0.06868744,  0.08841896,\n",
       "        0.09793377,  0.0592308 ,  0.05496216,  0.08436584,  0.0512886 ,\n",
       "        0.03992462,  0.06662178,  0.00746727,  0.01747894,  0.06413269],\n",
       "      dtype=float32)"
      ]
     },
     "execution_count": 81,
     "metadata": {},
     "output_type": "execute_result"
    }
   ],
   "source": [
    "y_pred-y_pred_torch.numpy()"
   ]
  },
  {
   "cell_type": "code",
   "execution_count": null,
   "metadata": {},
   "outputs": [],
   "source": [
    "#Предсказания двух решений Torch и Sklearn тоже близки \n",
    "#КОНЕЦ РЕШЕНИЯ"
   ]
  }
 ],
 "metadata": {
  "kernelspec": {
   "display_name": "Python 3",
   "language": "python",
   "name": "python3"
  },
  "language_info": {
   "codemirror_mode": {
    "name": "ipython",
    "version": 3
   },
   "file_extension": ".py",
   "mimetype": "text/x-python",
   "name": "python",
   "nbconvert_exporter": "python",
   "pygments_lexer": "ipython3",
   "version": "3.6.8"
  }
 },
 "nbformat": 4,
 "nbformat_minor": 2
}
