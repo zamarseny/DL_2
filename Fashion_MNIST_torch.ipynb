{
  "nbformat": 4,
  "nbformat_minor": 0,
  "metadata": {
    "kernelspec": {
      "display_name": "Python 3",
      "language": "python",
      "name": "python3"
    },
    "language_info": {
      "codemirror_mode": {
        "name": "ipython",
        "version": 3
      },
      "file_extension": ".py",
      "mimetype": "text/x-python",
      "name": "python",
      "nbconvert_exporter": "python",
      "pygments_lexer": "ipython3",
      "version": "3.7.1"
    },
    "colab": {
      "name": "Copy of Fashion_MNIST_torch.ipynb",
      "provenance": [],
      "collapsed_sections": []
    }
  },
  "cells": [
    {
      "cell_type": "code",
      "metadata": {
        "ExecuteTime": {
          "end_time": "2020-02-14T21:19:12.309344Z",
          "start_time": "2020-02-14T21:19:11.748461Z"
        },
        "id": "cnKpwMuHd5sY",
        "colab_type": "code",
        "colab": {}
      },
      "source": [
        "import torch\n",
        "import torchvision as tv"
      ],
      "execution_count": 0,
      "outputs": []
    },
    {
      "cell_type": "markdown",
      "metadata": {
        "id": "IpBa4nCkgSve",
        "colab_type": "text"
      },
      "source": [
        "Постройте модель для классификации FashionMNIST. Попробуйте получить качество на тестовой выборке не ниже 88%\n",
        "\n",
        "- попробуйте заменить SGD на Adam и RMSProp. Увеличится ли скорость сходимости?\n",
        "- попробуйте сделать больше слоев в сети - увеличится ли качество?\n",
        "- попробуйте добавить регуляризацию, dropout и/или batchnorm-слои. Увеличится ли качество?"
      ]
    },
    {
      "cell_type": "code",
      "metadata": {
        "ExecuteTime": {
          "end_time": "2020-02-14T21:29:24.498918Z",
          "start_time": "2020-02-14T21:29:24.495970Z"
        },
        "id": "4TMrR96Ad5uN",
        "colab_type": "code",
        "colab": {}
      },
      "source": [
        "import torchvision\n",
        "import time\n",
        "import matplotlib.pyplot as plt"
      ],
      "execution_count": 0,
      "outputs": []
    },
    {
      "cell_type": "code",
      "metadata": {
        "ExecuteTime": {
          "end_time": "2020-02-14T21:24:20.257148Z",
          "start_time": "2020-02-14T21:24:20.253690Z"
        },
        "id": "3WqU2IuCd5uQ",
        "colab_type": "code",
        "colab": {}
      },
      "source": [
        "#def transform(data):\n",
        "#    data = torch.tensor(data.getdata(), dtype=torch.float32)\n",
        "#    return torch.floor(data / 128.).squeeze(axis=-1)"
      ],
      "execution_count": 0,
      "outputs": []
    },
    {
      "cell_type": "code",
      "metadata": {
        "ExecuteTime": {
          "end_time": "2020-02-14T21:24:20.589869Z",
          "start_time": "2020-02-14T21:24:20.565449Z"
        },
        "id": "bwvmJqQRd5uS",
        "colab_type": "code",
        "colab": {}
      },
      "source": [
        "#Fmnist_train = tv.datasets.FashionMNIST('.', train=True, transform=transform, download=True)\n",
        "#Fmnist_test  = tv.datasets.FashionMNIST('.', train=False, transform=transform, download=True)\n",
        "\n",
        "Fmnist_train = tv.datasets.FashionMNIST('.', train=True, transform=tv.transforms.ToTensor(), download=True)\n",
        "Fmnist_test  = tv.datasets.FashionMNIST('.', train=False, transform=tv.transforms.ToTensor(), download=True)"
      ],
      "execution_count": 0,
      "outputs": []
    },
    {
      "cell_type": "code",
      "metadata": {
        "id": "HXabxwLAbVNR",
        "colab_type": "code",
        "colab": {}
      },
      "source": [
        "labels_f={0:\t'T-shirt/top',\n",
        "1:\t'Trouser',\n",
        "2:\t'Pullover',\n",
        "3:\t'Dress',\n",
        "4:\t'Coat',\n",
        "5:\t'Sandal',\n",
        "6:\t'Shirt',\n",
        "7:\t'Sneaker',\n",
        "8:\t'Bag',\n",
        "9\t:'Ankle boot'}"
      ],
      "execution_count": 0,
      "outputs": []
    },
    {
      "cell_type": "code",
      "metadata": {
        "ExecuteTime": {
          "end_time": "2020-02-14T21:24:46.737850Z",
          "start_time": "2020-02-14T21:24:46.732575Z"
        },
        "id": "1dAXZV3Qd5uV",
        "colab_type": "code",
        "outputId": "75bf6b46-6e02-4ec4-f797-1cfcc3c249e9",
        "colab": {
          "base_uri": "https://localhost:8080/",
          "height": 298
        }
      },
      "source": [
        "#Fmnist_train[0][0].reshape(28,28)#.shape\n",
        "i=5\n",
        "plt.title(labels[Fmnist_train[i][1]])\n",
        "plt.imshow(Fmnist_train[i][0].numpy().reshape((28,28)), cmap='gray')"
      ],
      "execution_count": 21,
      "outputs": [
        {
          "output_type": "execute_result",
          "data": {
            "text/plain": [
              "<matplotlib.image.AxesImage at 0x7f523b0de4e0>"
            ]
          },
          "metadata": {
            "tags": []
          },
          "execution_count": 21
        },
        {
          "output_type": "display_data",
          "data": {
            "image/png": "[encoded data removed]",
            "text/plain": [
              "<Figure size 432x288 with 1 Axes>"
            ]
          },
          "metadata": {
            "tags": []
          }
        }
      ]
    },
    {
      "cell_type": "code",
      "metadata": {
        "id": "xKmSszr-PRUF",
        "colab_type": "code",
        "colab": {}
      },
      "source": [
        "#Option III: Five fc layers 0.85 test accuracy\n",
        "model = torch.nn.Sequential(\n",
        "    torch.nn.Flatten(),\n",
        "    \n",
        "    #torch.nn.Dropout(0.1),\n",
        "    torch.nn.BatchNorm1d(num_features=784),\n",
        "    torch.nn.Linear(784, 512),\n",
        "    torch.nn.ReLU(),\n",
        "\n",
        "    torch.nn.BatchNorm1d(num_features=512),\n",
        "    torch.nn.Dropout(0.5),\n",
        "    torch.nn.Linear(512, 256),\n",
        "    torch.nn.ReLU(),\n",
        "    \n",
        "    torch.nn.BatchNorm1d(num_features=256),\n",
        "    torch.nn.Dropout(0.3),\n",
        "    torch.nn.Linear(256, 150),\n",
        "    torch.nn.ReLU(),\n",
        "\n",
        "    torch.nn.BatchNorm1d(num_features=150),\n",
        "    torch.nn.Dropout(0.2),\n",
        "    torch.nn.Linear(150, 80),\n",
        "    torch.nn.ReLU(),\n",
        "\n",
        "    torch.nn.BatchNorm1d(num_features=80),\n",
        "    torch.nn.Dropout(0.2),\n",
        "    torch.nn.Linear(80, 10)\n",
        ")\n",
        "\n",
        "loss = torch.nn.CrossEntropyLoss(reduction='sum')\n",
        "#trainer = torch.optim.Adam(model.parameters(), lr=0.001)\n",
        "trainer = torch.optim.Adam(model.parameters())"
      ],
      "execution_count": 0,
      "outputs": []
    },
    {
      "cell_type": "code",
      "metadata": {
        "ExecuteTime": {
          "end_time": "2020-02-14T21:27:36.496823Z",
          "start_time": "2020-02-14T21:27:36.493194Z"
        },
        "id": "CHcmWw1nd5uZ",
        "colab_type": "code",
        "colab": {}
      },
      "source": [
        "train, test = torch.utils.data.DataLoader(Fmnist_train, 256, shuffle=True), torch.utils.data.DataLoader(Fmnist_test, 256)"
      ],
      "execution_count": 0,
      "outputs": []
    },
    {
      "cell_type": "code",
      "metadata": {
        "ExecuteTime": {
          "end_time": "2020-02-14T21:36:31.234369Z",
          "start_time": "2020-02-14T21:35:12.487111Z"
        },
        "id": "ugNG-TNrd5ub",
        "colab_type": "code",
        "outputId": "325eb376-f4c9-4a81-d954-317dda1db849",
        "colab": {
          "base_uri": "https://localhost:8080/",
          "height": 1000
        }
      },
      "source": [
        "num_epochs = 15\n",
        "for epoch in range(0, num_epochs):\n",
        "    start, train_loss, train_acc, train_n, test_loss, test_acc, test_n = time.time(), 0., 0., 0, 0., 0., 0\n",
        "    \n",
        "    model.train()\n",
        "    for X, y in train:\n",
        "        trainer.zero_grad()\n",
        "        y_hat = model.forward(X)\n",
        "        l = loss(y_hat, y)\n",
        "        l.backward()\n",
        "        trainer.step()\n",
        "        train_loss += l.item()\n",
        "        train_acc += (y_hat.argmax(dim=1) == y).sum().item()\n",
        "        train_n += len(X)\n",
        "    \n",
        "    model.eval()\n",
        "    for X, y in test:\n",
        "        y_hat = model.forward(X)\n",
        "        l = loss(y_hat, y)\n",
        "        test_loss += l.item()\n",
        "        test_acc += (y_hat.argmax(dim=1) == y).sum().item()\n",
        "        test_n += len(X)   \n",
        "        \n",
        "    print(\"\"\"epoch {}, taked: {:.3f}\n",
        "train -> loss: {:.3f}, acc: {:.3f}\n",
        "test -> loss: {:.3f}, acc: {:.3f}\n",
        "\"\"\".format(epoch, time.time() - start, train_loss / train_n, train_acc / train_n,\n",
        "       test_loss / test_n, test_acc / test_n))\n"
      ],
      "execution_count": 33,
      "outputs": [
        {
          "output_type": "stream",
          "text": [
            "epoch 0, taked: 16.987\n",
            "train -> loss: 0.592, acc: 0.800\n",
            "test -> loss: 0.415, acc: 0.851\n",
            "\n",
            "epoch 1, taked: 16.766\n",
            "train -> loss: 0.418, acc: 0.850\n",
            "test -> loss: 0.378, acc: 0.861\n",
            "\n",
            "epoch 2, taked: 16.529\n",
            "train -> loss: 0.383, acc: 0.864\n",
            "test -> loss: 0.381, acc: 0.862\n",
            "\n",
            "epoch 3, taked: 16.402\n",
            "train -> loss: 0.360, acc: 0.870\n",
            "test -> loss: 0.346, acc: 0.873\n",
            "\n",
            "epoch 4, taked: 16.701\n",
            "train -> loss: 0.344, acc: 0.875\n",
            "test -> loss: 0.332, acc: 0.880\n",
            "\n",
            "epoch 5, taked: 16.588\n",
            "train -> loss: 0.329, acc: 0.880\n",
            "test -> loss: 0.341, acc: 0.876\n",
            "\n",
            "epoch 6, taked: 16.760\n",
            "train -> loss: 0.316, acc: 0.884\n",
            "test -> loss: 0.331, acc: 0.879\n",
            "\n",
            "epoch 7, taked: 16.602\n",
            "train -> loss: 0.309, acc: 0.887\n",
            "test -> loss: 0.319, acc: 0.884\n",
            "\n",
            "epoch 8, taked: 16.589\n",
            "train -> loss: 0.301, acc: 0.889\n",
            "test -> loss: 0.318, acc: 0.887\n",
            "\n",
            "epoch 9, taked: 16.691\n",
            "train -> loss: 0.291, acc: 0.893\n",
            "test -> loss: 0.322, acc: 0.885\n",
            "\n",
            "epoch 10, taked: 16.512\n",
            "train -> loss: 0.286, acc: 0.895\n",
            "test -> loss: 0.314, acc: 0.889\n",
            "\n",
            "epoch 11, taked: 16.795\n",
            "train -> loss: 0.276, acc: 0.897\n",
            "test -> loss: 0.314, acc: 0.888\n",
            "\n",
            "epoch 12, taked: 16.997\n",
            "train -> loss: 0.270, acc: 0.901\n",
            "test -> loss: 0.318, acc: 0.890\n",
            "\n",
            "epoch 13, taked: 16.725\n",
            "train -> loss: 0.271, acc: 0.902\n",
            "test -> loss: 0.311, acc: 0.890\n",
            "\n",
            "epoch 14, taked: 16.646\n",
            "train -> loss: 0.262, acc: 0.903\n",
            "test -> loss: 0.309, acc: 0.891\n",
            "\n"
          ],
          "name": "stdout"
        }
      ]
    },
    {
      "cell_type": "code",
      "metadata": {
        "id": "hH4s1K5OvFRR",
        "colab_type": "code",
        "colab": {
          "base_uri": "https://localhost:8080/",
          "height": 34
        },
        "outputId": "93e4a7ee-adf3-4491-a3b0-78abcaf3f778"
      },
      "source": [
        "#y_pred=torch.Tensor([1], dtypes=torch.int64)\n",
        "y_pred=torch.zeros((1), dtype=torch.int64)\n",
        "y_true=torch.zeros((1), dtype=torch.int64)\n",
        "model.eval()\n",
        "for X, y in test:\n",
        "  #pass\n",
        "  y_hat = model.forward(X)\n",
        "  #print(y_pred.shape, torch.argmax(y_hat, dim=1).shape)\n",
        "  pred_int=torch.argmax(y_hat, dim=1)\n",
        "  y_pred=torch.cat((y_pred, pred_int), axis=0)\n",
        "  y_true=torch.cat((y_true, y), axis=0)\n",
        "y_pred=y_pred[1:]\n",
        "y_true=y_true[1:]\n",
        "len(y_pred), y_pred\n",
        "#for i in test:\n",
        "#  print(i[1])"
      ],
      "execution_count": 62,
      "outputs": [
        {
          "output_type": "execute_result",
          "data": {
            "text/plain": [
              "(10000, tensor([9, 2, 1,  ..., 8, 1, 5]))"
            ]
          },
          "metadata": {
            "tags": []
          },
          "execution_count": 62
        }
      ]
    },
    {
      "cell_type": "code",
      "metadata": {
        "id": "82ZAA0LPjYwf",
        "colab_type": "code",
        "colab": {
          "base_uri": "https://localhost:8080/",
          "height": 185
        },
        "outputId": "9f02b3c3-c7bb-49a4-d569-c389808abbd3"
      },
      "source": [
        "list(labels.values())"
      ],
      "execution_count": 73,
      "outputs": [
        {
          "output_type": "execute_result",
          "data": {
            "text/plain": [
              "['T-shirt/top',\n",
              " 'Trouser',\n",
              " 'Pullover',\n",
              " 'Dress',\n",
              " 'Coat',\n",
              " 'Sandal',\n",
              " 'Shirt',\n",
              " 'Sneaker',\n",
              " 'Bag',\n",
              " 'Ankle boot']"
            ]
          },
          "metadata": {
            "tags": []
          },
          "execution_count": 73
        }
      ]
    },
    {
      "cell_type": "code",
      "metadata": {
        "id": "JjyOvpvSmQ6l",
        "colab_type": "code",
        "colab": {
          "base_uri": "https://localhost:8080/",
          "height": 470
        },
        "outputId": "97e88fcd-3825-4230-8148-7372b0a47dd3"
      },
      "source": [
        "from sklearn.metrics import classification_report, confusion_matrix\n",
        "print(classification_report(y_true, y_pred  , target_names=list(labels_f.values())))\n",
        "print(confusion_matrix(y_true, y_pred,))#, labels=list(labels_f.values())))"
      ],
      "execution_count": 78,
      "outputs": [
        {
          "output_type": "stream",
          "text": [
            "              precision    recall  f1-score   support\n",
            "\n",
            " T-shirt/top       0.85      0.84      0.84      1000\n",
            "     Trouser       0.99      0.97      0.98      1000\n",
            "    Pullover       0.83      0.81      0.82      1000\n",
            "       Dress       0.87      0.91      0.89      1000\n",
            "        Coat       0.82      0.82      0.82      1000\n",
            "      Sandal       0.98      0.96      0.97      1000\n",
            "       Shirt       0.71      0.72      0.72      1000\n",
            "     Sneaker       0.95      0.94      0.94      1000\n",
            "         Bag       0.97      0.97      0.97      1000\n",
            "  Ankle boot       0.94      0.97      0.96      1000\n",
            "\n",
            "    accuracy                           0.89     10000\n",
            "   macro avg       0.89      0.89      0.89     10000\n",
            "weighted avg       0.89      0.89      0.89     10000\n",
            "\n",
            "[[839   1   8  25   2   0 118   0   7   0]\n",
            " [  1 967   3  23   3   0   2   0   1   0]\n",
            " [ 13   0 807  16  85   0  78   0   1   0]\n",
            " [ 16   2   8 912  26   0  30   0   6   0]\n",
            " [  1   1  78  37 823   0  56   0   4   0]\n",
            " [  0   0   0   0   0 956   0  27   1  16]\n",
            " [116   1  69  25  62   0 719   0   8   0]\n",
            " [  0   0   0   0   0  10   0 940   1  49]\n",
            " [  3   0   5   5   2   1   5   5 974   0]\n",
            " [  0   0   0   0   0   6   1  19   0 974]]\n"
          ],
          "name": "stdout"
        }
      ]
    },
    {
      "cell_type": "code",
      "metadata": {
        "id": "UNRr1CVxn3pb",
        "colab_type": "code",
        "colab": {}
      },
      "source": [
        "# \"T-shirt/top\" путается \"Shirt\"\n",
        "#конец решения"
      ],
      "execution_count": 0,
      "outputs": []
    }
  ]
}