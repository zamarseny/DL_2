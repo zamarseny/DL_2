{
  "nbformat": 4,
  "nbformat_minor": 0,
  "metadata": {
    "colab": {
      "name": "5_modern_conv_nets.ipynb",
      "provenance": [],
      "collapsed_sections": []
    },
    "kernelspec": {
      "name": "python3",
      "display_name": "Python 3"
    },
    "accelerator": "GPU"
  },
  "cells": [
    {
      "cell_type": "code",
      "metadata": {
        "id": "x8armIWMik62",
        "colab_type": "code",
        "colab": {}
      },
      "source": [
        "Домашнее задание по лекции \"Современные сверточные архитектуры\" DLL-2"
      ],
      "execution_count": 0,
      "outputs": []
    },
    {
      "cell_type": "markdown",
      "metadata": {
        "id": "d56Yu0C9irZo",
        "colab_type": "text"
      },
      "source": [
        "Основное задание\n",
        "Возьмите датасет https://www.kaggle.com/ajayrana/hymenoptera-data/kernels\n",
        "1.Обучите на нем модели ResNet 18 и VGG 16 с нуля (5-10 эпох)\n",
        "2.Обучите на нем модели ResNet 18 и VGG 16 с использованием FineTuning (5-10 эпох)\n",
        "3.Добавьте аугментацию данных к пункту 2\n",
        "\n",
        "Сравните качество всех 3 полученных подходов\n",
        "\n",
        "Задание со звездочкой\n",
        "Примените FineTuning ResNet 18 к FashionMnist. Удалось ли увидеть резкое увеличение качества?"
      ]
    },
    {
      "cell_type": "code",
      "metadata": {
        "id": "j8QgK2RSi64j",
        "colab_type": "code",
        "colab": {}
      },
      "source": [
        "https://www.kaggle.com/mnagao/pytorch-hymenoptera"
      ],
      "execution_count": 0,
      "outputs": []
    },
    {
      "cell_type": "code",
      "metadata": {
        "id": "MUwHQMU6jA69",
        "colab_type": "code",
        "colab": {}
      },
      "source": [
        "import torch\n",
        "import torch.nn as nn\n",
        "import torch.optim as optim\n",
        "from torch.optim import lr_scheduler\n",
        "import numpy as np\n",
        "import torchvision\n",
        "from torchvision import datasets, models, transforms\n",
        "import matplotlib.pyplot as plt\n",
        "import time\n",
        "import os\n",
        "import copy\n",
        "\n",
        "plt.ion()   # interactive mode"
      ],
      "execution_count": 0,
      "outputs": []
    },
    {
      "cell_type": "code",
      "metadata": {
        "id": "R8Bmr-8AjPiv",
        "colab_type": "code",
        "colab": {}
      },
      "source": [
        "import albumentations as A\n",
        "import cv2\n",
        "import pandas as pd"
      ],
      "execution_count": 0,
      "outputs": []
    },
    {
      "cell_type": "code",
      "metadata": {
        "id": "IOEHQ6qyn2t-",
        "colab_type": "code",
        "colab": {
          "base_uri": "https://localhost:8080/",
          "height": 34
        },
        "outputId": "c6c07878-1907-4281-9081-35414d0b2f6f"
      },
      "source": [
        "device = torch.device(\"cuda:0\" if torch.cuda.is_available() else \"cpu\")\n",
        "device"
      ],
      "execution_count": 3,
      "outputs": [
        {
          "output_type": "execute_result",
          "data": {
            "text/plain": [
              "device(type='cuda', index=0)"
            ]
          },
          "metadata": {
            "tags": []
          },
          "execution_count": 3
        }
      ]
    },
    {
      "cell_type": "code",
      "metadata": {
        "id": "Se5XtOmGkxsn",
        "colab_type": "code",
        "colab": {
          "base_uri": "https://localhost:8080/",
          "height": 121
        },
        "outputId": "df0e95e7-c4ec-4318-dbd7-f0fcbd9619e9"
      },
      "source": [
        "from google.colab import drive\n",
        "drive.mount('/content/gdrive')"
      ],
      "execution_count": 4,
      "outputs": [
        {
          "output_type": "stream",
          "text": [
            "Go to this URL in a browser: https://accounts.google.com/o/oauth2/auth?client_id=947318989803-6bn6qk8qdgf4n4g3pfee6491hc0brc4i.apps.googleusercontent.com&redirect_uri=urn%3aietf%3awg%3aoauth%3a2.0%3aoob&response_type=code&scope=email%20https%3a%2f%2fwww.googleapis.com%2fauth%2fdocs.test%20https%3a%2f%2fwww.googleapis.com%2fauth%2fdrive%20https%3a%2f%2fwww.googleapis.com%2fauth%2fdrive.photos.readonly%20https%3a%2f%2fwww.googleapis.com%2fauth%2fpeopleapi.readonly\n",
            "\n",
            "Enter your authorization code:\n",
            "··········\n",
            "Mounted at /content/gdrive\n"
          ],
          "name": "stdout"
        }
      ]
    },
    {
      "cell_type": "code",
      "metadata": {
        "id": "YgsjSMdpoYiV",
        "colab_type": "code",
        "colab": {
          "base_uri": "https://localhost:8080/",
          "height": 67
        },
        "outputId": "e1cd5801-f1e0-4dae-9748-cf60d2f44a94"
      },
      "source": [
        "#root_path = 'gdrive/My Drive/data_science/hymenoptera-data/'\n",
        "root_path = '/content/gdrive/My Drive/data_science/hymenoptera_data'\n",
        "for i in os.listdir(root_path):\n",
        "  print(i)"
      ],
      "execution_count": 81,
      "outputs": [
        {
          "output_type": "stream",
          "text": [
            "train\n",
            "hymenoptera_data\n",
            "val\n"
          ],
          "name": "stdout"
        }
      ]
    },
    {
      "cell_type": "code",
      "metadata": {
        "id": "5G_QMpuppA0F",
        "colab_type": "code",
        "colab": {
          "resources": {
            "http://localhost:8080/nbextensions/google.colab/files.js": {
              "data": "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",
              "ok": true,
              "headers": [
                [
                  "content-type",
                  "application/javascript"
                ]
              ],
              "status": 200,
              "status_text": ""
            }
          },
          "base_uri": "https://localhost:8080/",
          "height": 91
        },
        "outputId": "f3b9fe5d-4288-493f-9b67-3279bd100e19"
      },
      "source": [
        "from google.colab import files\n",
        "files.upload()"
      ],
      "execution_count": 6,
      "outputs": [
        {
          "output_type": "display_data",
          "data": {
            "text/html": [
              "\n",
              "     <input type=\"file\" id=\"files-79f1a6e4-c7e5-4be9-8bfb-44e77242bb5c\" name=\"files[]\" multiple disabled />\n",
              "     <output id=\"result-79f1a6e4-c7e5-4be9-8bfb-44e77242bb5c\">\n",
              "      Upload widget is only available when the cell has been executed in the\n",
              "      current browser session. Please rerun this cell to enable.\n",
              "      </output>\n",
              "      <script src=\"/nbextensions/google.colab/files.js\"></script> "
            ],
            "text/plain": [
              "<IPython.core.display.HTML object>"
            ]
          },
          "metadata": {
            "tags": []
          }
        },
        {
          "output_type": "stream",
          "text": [
            "Saving kaggle.json to kaggle.json\n"
          ],
          "name": "stdout"
        },
        {
          "output_type": "execute_result",
          "data": {
            "text/plain": [
              "{'kaggle.json': b'{\"username\":\"zamarseny\",\"key\":\"e3f17ee98642f76422b3e51ec459454c\"}'}"
            ]
          },
          "metadata": {
            "tags": []
          },
          "execution_count": 6
        }
      ]
    },
    {
      "cell_type": "code",
      "metadata": {
        "id": "hZ-gAm1dpBDc",
        "colab_type": "code",
        "colab": {
          "base_uri": "https://localhost:8080/",
          "height": 34
        },
        "outputId": "663158aa-a4b7-46f6-e7e8-50a934be101b"
      },
      "source": [
        "!pip install -q kaggle\n",
        "!mkdir -p ~/.kaggle\n",
        "!cp kaggle.json ~/.kaggle/\n",
        "!ls ~/.kaggle\n",
        "!chmod 600 /root/.kaggle/kaggle.json  # set permission"
      ],
      "execution_count": 8,
      "outputs": [
        {
          "output_type": "stream",
          "text": [
            "kaggle.json\n"
          ],
          "name": "stdout"
        }
      ]
    },
    {
      "cell_type": "code",
      "metadata": {
        "id": "9OPolwR2yGTg",
        "colab_type": "code",
        "colab": {}
      },
      "source": [
        "#pic=cv2.imread('drive/My Drive/triangulated-image.png')\n"
      ],
      "execution_count": 0,
      "outputs": []
    },
    {
      "cell_type": "code",
      "metadata": {
        "id": "T7MJNQ-CvFKH",
        "colab_type": "code",
        "colab": {
          "base_uri": "https://localhost:8080/",
          "height": 34
        },
        "outputId": "30dfeb75-0822-4fe1-fe4b-a15e53cc42ec"
      },
      "source": [
        "#!cd drive/\n",
        "#!cd 'drive/My Drive'\n",
        "#cd data_science/\n",
        "#cd hymenoptera_data/\n",
        "cd /content/gdrive/My Drive/data_science/hymenoptera_data"
      ],
      "execution_count": 77,
      "outputs": [
        {
          "output_type": "stream",
          "text": [
            "/content/gdrive/My Drive/data_science/hymenoptera_data\n"
          ],
          "name": "stdout"
        }
      ]
    },
    {
      "cell_type": "code",
      "metadata": {
        "id": "tvEc7xFZvWsm",
        "colab_type": "code",
        "colab": {
          "base_uri": "https://localhost:8080/",
          "height": 34
        },
        "outputId": "3fd53ee8-3ccb-4678-fc6d-cbc60e166af7"
      },
      "source": [
        "!ls"
      ],
      "execution_count": 78,
      "outputs": [
        {
          "output_type": "stream",
          "text": [
            "hymenoptera_data  train  val\n"
          ],
          "name": "stdout"
        }
      ]
    },
    {
      "cell_type": "code",
      "metadata": {
        "id": "xpTpBXpVwS74",
        "colab_type": "code",
        "colab": {
          "base_uri": "https://localhost:8080/",
          "height": 118
        },
        "outputId": "5ecabf80-0f93-464a-ff4d-2ba3fe49ffdb"
      },
      "source": [
        "#!kaggle competitions list\n",
        "!kaggle datasets list -s hym"
      ],
      "execution_count": 54,
      "outputs": [
        {
          "output_type": "stream",
          "text": [
            "Warning: Looks like you're using an outdated API Version, please consider updating (server 1.5.6 / client 1.5.4)\n",
            "ref                          title             size  lastUpdated          downloadCount  \n",
            "---------------------------  ----------------  ----  -------------------  -------------  \n",
            "ajayrana/hymenoptera-data    hymenoptera_data  90MB  2017-12-14 13:01:49            541  \n",
            "jiweiliu/hymenoptera-data    hymenoptera_data  45MB  2019-09-07 00:09:39             28  \n",
            "zuozhaorui/hymenoptera-data  hymenoptera_data  90MB  2018-10-25 05:57:04              9  \n"
          ],
          "name": "stdout"
        }
      ]
    },
    {
      "cell_type": "code",
      "metadata": {
        "id": "rLi0oihVtkzV",
        "colab_type": "code",
        "colab": {}
      },
      "source": [
        "#!kaggle competitions download -c https://www.kaggle.com/ajayrana/hymenoptera-data -p drive/My Drive/kaggle/hymenoptera_data/\n",
        "#!kaggle competitions download -c hymenoptera-data -p drive/My Drive/kaggle/hymenoptera_data/"
      ],
      "execution_count": 0,
      "outputs": []
    },
    {
      "cell_type": "code",
      "metadata": {
        "id": "kWa4dXC0jr-x",
        "colab_type": "code",
        "colab": {}
      },
      "source": [
        "data_transforms = {\n",
        "    'train': transforms.Compose([\n",
        "        transforms.Resize((224,224)),\n",
        "        #transforms.RandomResizedCrop(224),\n",
        "        #transforms.RandomHorizontalFlip(),\n",
        "        transforms.ToTensor(),\n",
        "        #transforms.Normalize([0.485, 0.456, 0.406], [0.229, 0.224, 0.225])\n",
        "    ]),\n",
        "    'val': transforms.Compose([\n",
        "        transforms.Resize((224,224)),\n",
        "        #transforms.CenterCrop(224),\n",
        "        transforms.ToTensor(),\n",
        "        #transforms.Normalize([0.485, 0.456, 0.406], [0.229, 0.224, 0.225])\n",
        "    ]),\n",
        "}\n",
        "\n",
        "#data_dir = '../input/hymenoptera-data/hymenoptera_data/hymenoptera_data'\n",
        "data_dir='/content/gdrive/My Drive/data_science/hymenoptera_data'\n",
        "image_datasets = {x: datasets.ImageFolder(os.path.join(data_dir, x),\n",
        "                                          data_transforms[x])\n",
        "                  for x in ['train', 'val']}\n",
        "dataloaders = {x: torch.utils.data.DataLoader(image_datasets[x], batch_size=4,\n",
        "                                             shuffle=True, num_workers=4)\n",
        "              for x in ['train', 'val']}\n",
        "dataset_sizes = {x: len(image_datasets[x]) for x in ['train', 'val']}\n",
        "class_names = image_datasets['train'].classes\n",
        "\n"
      ],
      "execution_count": 0,
      "outputs": []
    },
    {
      "cell_type": "code",
      "metadata": {
        "id": "GAD9uktrkEtU",
        "colab_type": "code",
        "colab": {
          "base_uri": "https://localhost:8080/",
          "height": 34
        },
        "outputId": "ccdb4339-d06a-4d12-f77c-9c3d424d6469"
      },
      "source": [
        "class_names"
      ],
      "execution_count": 159,
      "outputs": [
        {
          "output_type": "execute_result",
          "data": {
            "text/plain": [
              "['ants', 'bees']"
            ]
          },
          "metadata": {
            "tags": []
          },
          "execution_count": 159
        }
      ]
    },
    {
      "cell_type": "code",
      "metadata": {
        "id": "DaIU_xW15mUL",
        "colab_type": "code",
        "colab": {
          "base_uri": "https://localhost:8080/",
          "height": 333
        },
        "outputId": "c0f84ae8-a3db-4597-d905-9ec8fa99b767"
      },
      "source": [
        "def imshow(inp, title=None):\n",
        "    \"\"\"Imshow for Tensor.\"\"\"\n",
        "    inp = inp.numpy().transpose((1, 2, 0))\n",
        "    mean = np.array([0.485, 0.456, 0.406])\n",
        "    std = np.array([0.229, 0.224, 0.225])\n",
        "    inp = std * inp + mean\n",
        "    inp = np.clip(inp, 0, 1)\n",
        "    plt.imshow(inp)\n",
        "    if title is not None:\n",
        "        plt.title(title)\n",
        "    plt.pause(0.001)  # pause a bit so that plots are updated\n",
        "\n",
        "\n",
        "# Get a batch of training data\n",
        "inputs, classes = next(iter(dataloaders['train']))\n",
        "print(inputs.shape)\n",
        "\n",
        "# Make a grid from batch\n",
        "out = torchvision.utils.make_grid(inputs)\n",
        "\n",
        "imshow(out, title=[class_names[x] for x in classes])"
      ],
      "execution_count": 171,
      "outputs": [
        {
          "output_type": "stream",
          "text": [
            "Traceback (most recent call last):\n",
            "  File \"/usr/lib/python3.6/multiprocessing/util.py\", line 262, in _run_finalizers\n",
            "    finalizer()\n",
            "  File \"/usr/lib/python3.6/multiprocessing/util.py\", line 186, in __call__\n",
            "    res = self._callback(*self._args, **self._kwargs)\n",
            "  File \"/usr/lib/python3.6/shutil.py\", line 490, in rmtree\n",
            "    onerror(os.rmdir, path, sys.exc_info())\n",
            "  File \"/usr/lib/python3.6/shutil.py\", line 488, in rmtree\n",
            "    os.rmdir(path)\n",
            "OSError: [Errno 39] Directory not empty: '/tmp/pymp-2hn9jlrj'\n"
          ],
          "name": "stderr"
        },
        {
          "output_type": "stream",
          "text": [
            "torch.Size([4, 3, 224, 224])\n"
          ],
          "name": "stdout"
        },
        {
          "output_type": "display_data",
          "data": {
            "image/png": "[encoded data removed]",
            "text/plain": [
              "<Figure size 432x288 with 1 Axes>"
            ]
          },
          "metadata": {
            "tags": [],
            "needs_background": "light"
          }
        }
      ]
    },
    {
      "cell_type": "code",
      "metadata": {
        "id": "MLFnSehZ6Og4",
        "colab_type": "code",
        "colab": {}
      },
      "source": [
        "#Training the model"
      ],
      "execution_count": 0,
      "outputs": []
    },
    {
      "cell_type": "code",
      "metadata": {
        "id": "oBbsiawZ6keP",
        "colab_type": "code",
        "colab": {}
      },
      "source": [
        "def train_model(model, criterion, optimizer, scheduler, num_epochs=25):\n",
        "    since = time.time()\n",
        "\n",
        "    best_model_wts = copy.deepcopy(model.state_dict())\n",
        "    best_acc = 0.0\n",
        "\n",
        "    for epoch in range(num_epochs):\n",
        "        print('Epoch {}/{}'.format(epoch, num_epochs - 1))\n",
        "        print('-' * 10)\n",
        "\n",
        "        # Each epoch has a training and validation phase\n",
        "        for phase in ['train', 'val']:\n",
        "            if phase == 'train':\n",
        "                scheduler.step()\n",
        "                model.train()  # Set model to training mode\n",
        "            else:\n",
        "                model.eval()   # Set model to evaluate mode\n",
        "\n",
        "            running_loss = 0.0\n",
        "            running_corrects = 0\n",
        "\n",
        "            # Iterate over data.\n",
        "            for inputs, labels in dataloaders[phase]:\n",
        "                inputs = inputs.to(device)\n",
        "                labels = labels.to(device)\n",
        "\n",
        "                # zero the parameter gradients\n",
        "                optimizer.zero_grad()\n",
        "\n",
        "                # forward\n",
        "                # track history if only in train\n",
        "                with torch.set_grad_enabled(phase == 'train'):\n",
        "                    outputs = model(inputs)\n",
        "                    _, preds = torch.max(outputs, 1)\n",
        "                    loss = criterion(outputs, labels)\n",
        "\n",
        "                    # backward + optimize only if in training phase\n",
        "                    if phase == 'train':\n",
        "                        loss.backward()\n",
        "                        optimizer.step()\n",
        "\n",
        "                # statistics\n",
        "                running_loss += loss.item() * inputs.size(0)\n",
        "                running_corrects += torch.sum(preds == labels.data)\n",
        "\n",
        "            epoch_loss = running_loss / dataset_sizes[phase]\n",
        "            epoch_acc = running_corrects.double() / dataset_sizes[phase]\n",
        "\n",
        "            print('{} Loss: {:.4f} Acc: {:.4f}'.format(\n",
        "                phase, epoch_loss, epoch_acc))\n",
        "\n",
        "            # deep copy the model\n",
        "            if phase == 'val' and epoch_acc > best_acc:\n",
        "                best_acc = epoch_acc\n",
        "                best_model_wts = copy.deepcopy(model.state_dict())\n",
        "\n",
        "        print()\n",
        "\n",
        "    time_elapsed = time.time() - since\n",
        "    print('Training complete in {:.0f}m {:.0f}s'.format(\n",
        "        time_elapsed // 60, time_elapsed % 60))\n",
        "    print('Best val Acc: {:4f}'.format(best_acc))\n",
        "\n",
        "    # load best model weights\n",
        "    model.load_state_dict(best_model_wts)\n",
        "    return model, best_acc"
      ],
      "execution_count": 0,
      "outputs": []
    },
    {
      "cell_type": "code",
      "metadata": {
        "id": "F-3foFYW6kiH",
        "colab_type": "code",
        "colab": {}
      },
      "source": [
        "def visualize_model(model, num_images=6):\n",
        "    was_training = model.training\n",
        "    model.eval()\n",
        "    images_so_far = 0\n",
        "    fig = plt.figure()\n",
        "\n",
        "    with torch.no_grad():\n",
        "        for i, (inputs, labels) in enumerate(dataloaders['val']):\n",
        "            inputs = inputs.to(device)\n",
        "            labels = labels.to(device)\n",
        "\n",
        "            outputs = model(inputs)\n",
        "            _, preds = torch.max(outputs, 1)\n",
        "\n",
        "            for j in range(inputs.size()[0]):\n",
        "                images_so_far += 1\n",
        "                ax = plt.subplot(num_images//2, 2, images_so_far)\n",
        "                ax.axis('off')\n",
        "                ax.set_title('predicted: {}'.format(class_names[preds[j]]))\n",
        "                imshow(inputs.cpu().data[j])\n",
        "\n",
        "                if images_so_far == num_images:\n",
        "                    model.train(mode=was_training)\n",
        "                    return\n",
        "        model.train(mode=was_training)"
      ],
      "execution_count": 0,
      "outputs": []
    },
    {
      "cell_type": "code",
      "metadata": {
        "id": "4RTs0fs16kmI",
        "colab_type": "code",
        "colab": {}
      },
      "source": [
        "#model_ft = models.resnet18(pretrained=True)\n",
        "model_ft = models.resnet18(pretrained=False)\n",
        "num_ftrs = model_ft.fc.in_features\n",
        "model_ft.fc = nn.Linear(num_ftrs, 2)\n",
        "\n",
        "model_ft = model_ft.to(device)\n",
        "\n",
        "criterion = nn.CrossEntropyLoss()\n",
        "\n",
        "# Observe that all parameters are being optimized\n",
        "#optimizer_ft = optim.SGD(model_ft.parameters(), lr=0.001, momentum=0.9)\n",
        "optimizer_ft = torch.optim.Adam(model_ft.parameters())\n",
        "\n",
        "# Decay LR by a factor of 0.1 every 7 epochs\n",
        "exp_lr_scheduler = lr_scheduler.StepLR(optimizer_ft, step_size=7, gamma=0.1)"
      ],
      "execution_count": 0,
      "outputs": []
    },
    {
      "cell_type": "code",
      "metadata": {
        "id": "a7rIUP2uCyNz",
        "colab_type": "code",
        "colab": {
          "base_uri": "https://localhost:8080/",
          "height": 1000
        },
        "outputId": "0a427225-14a1-43c9-8af9-4e471f1a4878"
      },
      "source": [
        "model_ft"
      ],
      "execution_count": 188,
      "outputs": [
        {
          "output_type": "execute_result",
          "data": {
            "text/plain": [
              "ResNet(\n",
              "  (conv1): Conv2d(3, 64, kernel_size=(7, 7), stride=(2, 2), padding=(3, 3), bias=False)\n",
              "  (bn1): BatchNorm2d(64, eps=1e-05, momentum=0.1, affine=True, track_running_stats=True)\n",
              "  (relu): ReLU(inplace=True)\n",
              "  (maxpool): MaxPool2d(kernel_size=3, stride=2, padding=1, dilation=1, ceil_mode=False)\n",
              "  (layer1): Sequential(\n",
              "    (0): BasicBlock(\n",
              "      (conv1): Conv2d(64, 64, kernel_size=(3, 3), stride=(1, 1), padding=(1, 1), bias=False)\n",
              "      (bn1): BatchNorm2d(64, eps=1e-05, momentum=0.1, affine=True, track_running_stats=True)\n",
              "      (relu): ReLU(inplace=True)\n",
              "      (conv2): Conv2d(64, 64, kernel_size=(3, 3), stride=(1, 1), padding=(1, 1), bias=False)\n",
              "      (bn2): BatchNorm2d(64, eps=1e-05, momentum=0.1, affine=True, track_running_stats=True)\n",
              "    )\n",
              "    (1): BasicBlock(\n",
              "      (conv1): Conv2d(64, 64, kernel_size=(3, 3), stride=(1, 1), padding=(1, 1), bias=False)\n",
              "      (bn1): BatchNorm2d(64, eps=1e-05, momentum=0.1, affine=True, track_running_stats=True)\n",
              "      (relu): ReLU(inplace=True)\n",
              "      (conv2): Conv2d(64, 64, kernel_size=(3, 3), stride=(1, 1), padding=(1, 1), bias=False)\n",
              "      (bn2): BatchNorm2d(64, eps=1e-05, momentum=0.1, affine=True, track_running_stats=True)\n",
              "    )\n",
              "  )\n",
              "  (layer2): Sequential(\n",
              "    (0): BasicBlock(\n",
              "      (conv1): Conv2d(64, 128, kernel_size=(3, 3), stride=(2, 2), padding=(1, 1), bias=False)\n",
              "      (bn1): BatchNorm2d(128, eps=1e-05, momentum=0.1, affine=True, track_running_stats=True)\n",
              "      (relu): ReLU(inplace=True)\n",
              "      (conv2): Conv2d(128, 128, kernel_size=(3, 3), stride=(1, 1), padding=(1, 1), bias=False)\n",
              "      (bn2): BatchNorm2d(128, eps=1e-05, momentum=0.1, affine=True, track_running_stats=True)\n",
              "      (downsample): Sequential(\n",
              "        (0): Conv2d(64, 128, kernel_size=(1, 1), stride=(2, 2), bias=False)\n",
              "        (1): BatchNorm2d(128, eps=1e-05, momentum=0.1, affine=True, track_running_stats=True)\n",
              "      )\n",
              "    )\n",
              "    (1): BasicBlock(\n",
              "      (conv1): Conv2d(128, 128, kernel_size=(3, 3), stride=(1, 1), padding=(1, 1), bias=False)\n",
              "      (bn1): BatchNorm2d(128, eps=1e-05, momentum=0.1, affine=True, track_running_stats=True)\n",
              "      (relu): ReLU(inplace=True)\n",
              "      (conv2): Conv2d(128, 128, kernel_size=(3, 3), stride=(1, 1), padding=(1, 1), bias=False)\n",
              "      (bn2): BatchNorm2d(128, eps=1e-05, momentum=0.1, affine=True, track_running_stats=True)\n",
              "    )\n",
              "  )\n",
              "  (layer3): Sequential(\n",
              "    (0): BasicBlock(\n",
              "      (conv1): Conv2d(128, 256, kernel_size=(3, 3), stride=(2, 2), padding=(1, 1), bias=False)\n",
              "      (bn1): BatchNorm2d(256, eps=1e-05, momentum=0.1, affine=True, track_running_stats=True)\n",
              "      (relu): ReLU(inplace=True)\n",
              "      (conv2): Conv2d(256, 256, kernel_size=(3, 3), stride=(1, 1), padding=(1, 1), bias=False)\n",
              "      (bn2): BatchNorm2d(256, eps=1e-05, momentum=0.1, affine=True, track_running_stats=True)\n",
              "      (downsample): Sequential(\n",
              "        (0): Conv2d(128, 256, kernel_size=(1, 1), stride=(2, 2), bias=False)\n",
              "        (1): BatchNorm2d(256, eps=1e-05, momentum=0.1, affine=True, track_running_stats=True)\n",
              "      )\n",
              "    )\n",
              "    (1): BasicBlock(\n",
              "      (conv1): Conv2d(256, 256, kernel_size=(3, 3), stride=(1, 1), padding=(1, 1), bias=False)\n",
              "      (bn1): BatchNorm2d(256, eps=1e-05, momentum=0.1, affine=True, track_running_stats=True)\n",
              "      (relu): ReLU(inplace=True)\n",
              "      (conv2): Conv2d(256, 256, kernel_size=(3, 3), stride=(1, 1), padding=(1, 1), bias=False)\n",
              "      (bn2): BatchNorm2d(256, eps=1e-05, momentum=0.1, affine=True, track_running_stats=True)\n",
              "    )\n",
              "  )\n",
              "  (layer4): Sequential(\n",
              "    (0): BasicBlock(\n",
              "      (conv1): Conv2d(256, 512, kernel_size=(3, 3), stride=(2, 2), padding=(1, 1), bias=False)\n",
              "      (bn1): BatchNorm2d(512, eps=1e-05, momentum=0.1, affine=True, track_running_stats=True)\n",
              "      (relu): ReLU(inplace=True)\n",
              "      (conv2): Conv2d(512, 512, kernel_size=(3, 3), stride=(1, 1), padding=(1, 1), bias=False)\n",
              "      (bn2): BatchNorm2d(512, eps=1e-05, momentum=0.1, affine=True, track_running_stats=True)\n",
              "      (downsample): Sequential(\n",
              "        (0): Conv2d(256, 512, kernel_size=(1, 1), stride=(2, 2), bias=False)\n",
              "        (1): BatchNorm2d(512, eps=1e-05, momentum=0.1, affine=True, track_running_stats=True)\n",
              "      )\n",
              "    )\n",
              "    (1): BasicBlock(\n",
              "      (conv1): Conv2d(512, 512, kernel_size=(3, 3), stride=(1, 1), padding=(1, 1), bias=False)\n",
              "      (bn1): BatchNorm2d(512, eps=1e-05, momentum=0.1, affine=True, track_running_stats=True)\n",
              "      (relu): ReLU(inplace=True)\n",
              "      (conv2): Conv2d(512, 512, kernel_size=(3, 3), stride=(1, 1), padding=(1, 1), bias=False)\n",
              "      (bn2): BatchNorm2d(512, eps=1e-05, momentum=0.1, affine=True, track_running_stats=True)\n",
              "    )\n",
              "  )\n",
              "  (avgpool): AdaptiveAvgPool2d(output_size=(1, 1))\n",
              "  (fc): Linear(in_features=512, out_features=2, bias=True)\n",
              ")"
            ]
          },
          "metadata": {
            "tags": []
          },
          "execution_count": 188
        }
      ]
    },
    {
      "cell_type": "code",
      "metadata": {
        "id": "m8EJ0I2A7gR9",
        "colab_type": "code",
        "colab": {
          "base_uri": "https://localhost:8080/",
          "height": 944
        },
        "outputId": "51c99579-8bae-4c54-af72-b13575a300a7"
      },
      "source": [
        "model_ft, best_acc = train_model(model_ft, criterion, optimizer_ft, exp_lr_scheduler,\n",
        "                       num_epochs=10)"
      ],
      "execution_count": 175,
      "outputs": [
        {
          "output_type": "stream",
          "text": [
            "Epoch 0/9\n",
            "----------\n"
          ],
          "name": "stdout"
        },
        {
          "output_type": "stream",
          "text": [
            "/usr/local/lib/python3.6/dist-packages/torch/optim/lr_scheduler.py:122: UserWarning: Detected call of `lr_scheduler.step()` before `optimizer.step()`. In PyTorch 1.1.0 and later, you should call them in the opposite order: `optimizer.step()` before `lr_scheduler.step()`.  Failure to do this will result in PyTorch skipping the first value of the learning rate schedule. See more details at https://pytorch.org/docs/stable/optim.html#how-to-adjust-learning-rate\n",
            "  \"https://pytorch.org/docs/stable/optim.html#how-to-adjust-learning-rate\", UserWarning)\n"
          ],
          "name": "stderr"
        },
        {
          "output_type": "stream",
          "text": [
            "train Loss: 0.9314 Acc: 0.4713\n",
            "val Loss: 0.7873 Acc: 0.6078\n",
            "\n",
            "Epoch 1/9\n",
            "----------\n",
            "train Loss: 0.7495 Acc: 0.5574\n",
            "val Loss: 0.8026 Acc: 0.5425\n",
            "\n",
            "Epoch 2/9\n",
            "----------\n",
            "train Loss: 0.7190 Acc: 0.5984\n",
            "val Loss: 0.9082 Acc: 0.5163\n",
            "\n",
            "Epoch 3/9\n",
            "----------\n",
            "train Loss: 0.6805 Acc: 0.5984\n",
            "val Loss: 0.9364 Acc: 0.5556\n",
            "\n",
            "Epoch 4/9\n",
            "----------\n",
            "train Loss: 0.6889 Acc: 0.6148\n",
            "val Loss: 0.9079 Acc: 0.5882\n",
            "\n",
            "Epoch 5/9\n",
            "----------\n",
            "train Loss: 0.6664 Acc: 0.5738\n",
            "val Loss: 0.6826 Acc: 0.6863\n",
            "\n",
            "Epoch 6/9\n",
            "----------\n",
            "train Loss: 0.6469 Acc: 0.6557\n",
            "val Loss: 0.7367 Acc: 0.5752\n",
            "\n",
            "Epoch 7/9\n",
            "----------\n",
            "train Loss: 0.6137 Acc: 0.6393\n",
            "val Loss: 0.8018 Acc: 0.5752\n",
            "\n",
            "Epoch 8/9\n",
            "----------\n",
            "train Loss: 0.6067 Acc: 0.7090\n",
            "val Loss: 0.6823 Acc: 0.6013\n",
            "\n",
            "Epoch 9/9\n",
            "----------\n",
            "train Loss: 0.6117 Acc: 0.6844\n",
            "val Loss: 0.6401 Acc: 0.6928\n",
            "\n",
            "Training complete in 0m 41s\n",
            "Best val Acc: 0.692810\n"
          ],
          "name": "stdout"
        }
      ]
    },
    {
      "cell_type": "code",
      "metadata": {
        "id": "2mdTd1Nv8Bd9",
        "colab_type": "code",
        "colab": {
          "base_uri": "https://localhost:8080/",
          "height": 34
        },
        "outputId": "ffe29166-a96b-481c-d5da-16267acb726b"
      },
      "source": [
        "best_acc.item()"
      ],
      "execution_count": 176,
      "outputs": [
        {
          "output_type": "execute_result",
          "data": {
            "text/plain": [
              "0.6928104575163399"
            ]
          },
          "metadata": {
            "tags": []
          },
          "execution_count": 176
        }
      ]
    },
    {
      "cell_type": "code",
      "metadata": {
        "id": "nXFm4EOd9gmo",
        "colab_type": "code",
        "colab": {
          "base_uri": "https://localhost:8080/",
          "height": 34
        },
        "outputId": "4d23570c-6fc5-426c-c3d4-d0caeca84606"
      },
      "source": [
        "st=str(model_ft)\n",
        "st=st.split('(')[0]\n",
        "st"
      ],
      "execution_count": 177,
      "outputs": [
        {
          "output_type": "execute_result",
          "data": {
            "text/plain": [
              "'ResNet'"
            ]
          },
          "metadata": {
            "tags": []
          },
          "execution_count": 177
        }
      ]
    },
    {
      "cell_type": "code",
      "metadata": {
        "id": "Sa5__amj9vxO",
        "colab_type": "code",
        "colab": {}
      },
      "source": [
        "df=pd.DataFrame(data=None, columns=['dataset','model', 'pretrained', 'augumentations', 'num_epochs','best_val_acc'])"
      ],
      "execution_count": 0,
      "outputs": []
    },
    {
      "cell_type": "code",
      "metadata": {
        "id": "lKuwABvD-8Jf",
        "colab_type": "code",
        "colab": {}
      },
      "source": [
        "df.loc[0]=['hymenoptera_data', str(model_ft).split('(')[0], False, 'no_augs', 10, best_acc.item()]"
      ],
      "execution_count": 0,
      "outputs": []
    },
    {
      "cell_type": "code",
      "metadata": {
        "id": "hHtC3NKQ-8yd",
        "colab_type": "code",
        "colab": {
          "base_uri": "https://localhost:8080/",
          "height": 77
        },
        "outputId": "11ce5934-948e-4d1e-85fe-3e72ae1aa59e"
      },
      "source": [
        "df"
      ],
      "execution_count": 183,
      "outputs": [
        {
          "output_type": "execute_result",
          "data": {
            "text/html": [
              "<div>\n",
              "<style scoped>\n",
              "    .dataframe tbody tr th:only-of-type {\n",
              "        vertical-align: middle;\n",
              "    }\n",
              "\n",
              "    .dataframe tbody tr th {\n",
              "        vertical-align: top;\n",
              "    }\n",
              "\n",
              "    .dataframe thead th {\n",
              "        text-align: right;\n",
              "    }\n",
              "</style>\n",
              "<table border=\"1\" class=\"dataframe\">\n",
              "  <thead>\n",
              "    <tr style=\"text-align: right;\">\n",
              "      <th></th>\n",
              "      <th>dataset</th>\n",
              "      <th>model</th>\n",
              "      <th>pretrained</th>\n",
              "      <th>augumentations</th>\n",
              "      <th>num_epochs</th>\n",
              "      <th>best_val_acc</th>\n",
              "    </tr>\n",
              "  </thead>\n",
              "  <tbody>\n",
              "    <tr>\n",
              "      <th>0</th>\n",
              "      <td>hymenoptera_data</td>\n",
              "      <td>ResNet</td>\n",
              "      <td>False</td>\n",
              "      <td>no_augs</td>\n",
              "      <td>10</td>\n",
              "      <td>0.69281</td>\n",
              "    </tr>\n",
              "  </tbody>\n",
              "</table>\n",
              "</div>"
            ],
            "text/plain": [
              "            dataset   model pretrained augumentations num_epochs  best_val_acc\n",
              "0  hymenoptera_data  ResNet      False        no_augs         10       0.69281"
            ]
          },
          "metadata": {
            "tags": []
          },
          "execution_count": 183
        }
      ]
    },
    {
      "cell_type": "code",
      "metadata": {
        "id": "-VqVLhC2MJM4",
        "colab_type": "code",
        "colab": {}
      },
      "source": [
        "model_ft = models.vgg16(pretrained=False)\n",
        "#num_ftrs = model_ft.fc.in_features\n",
        "#model_ft.fc = nn.Linear(num_ftrs, 2)\n",
        "\n",
        "model_ft = model_ft.to(device)\n",
        "\n",
        "criterion = nn.CrossEntropyLoss()\n",
        "optimizer_ft = torch.optim.Adam(model_ft.parameters())\n",
        "exp_lr_scheduler = lr_scheduler.StepLR(optimizer_ft, step_size=7, gamma=0.1)"
      ],
      "execution_count": 0,
      "outputs": []
    },
    {
      "cell_type": "code",
      "metadata": {
        "id": "8aUBy9GjManp",
        "colab_type": "code",
        "colab": {
          "base_uri": "https://localhost:8080/",
          "height": 944
        },
        "outputId": "d367c0b4-77c2-4cae-9cf0-fb247ab4a5a3"
      },
      "source": [
        "model_ft, best_acc = train_model(model_ft, criterion, optimizer_ft, exp_lr_scheduler,\n",
        "                       num_epochs=10)"
      ],
      "execution_count": 200,
      "outputs": [
        {
          "output_type": "stream",
          "text": [
            "Epoch 0/9\n",
            "----------\n"
          ],
          "name": "stdout"
        },
        {
          "output_type": "stream",
          "text": [
            "/usr/local/lib/python3.6/dist-packages/torch/optim/lr_scheduler.py:122: UserWarning: Detected call of `lr_scheduler.step()` before `optimizer.step()`. In PyTorch 1.1.0 and later, you should call them in the opposite order: `optimizer.step()` before `lr_scheduler.step()`.  Failure to do this will result in PyTorch skipping the first value of the learning rate schedule. See more details at https://pytorch.org/docs/stable/optim.html#how-to-adjust-learning-rate\n",
            "  \"https://pytorch.org/docs/stable/optim.html#how-to-adjust-learning-rate\", UserWarning)\n"
          ],
          "name": "stderr"
        },
        {
          "output_type": "stream",
          "text": [
            "train Loss: 2.4709 Acc: 0.4385\n",
            "val Loss: 0.6999 Acc: 0.5425\n",
            "\n",
            "Epoch 1/9\n",
            "----------\n",
            "train Loss: 0.7643 Acc: 0.5082\n",
            "val Loss: 0.6977 Acc: 0.5425\n",
            "\n",
            "Epoch 2/9\n",
            "----------\n",
            "train Loss: 0.7120 Acc: 0.5205\n",
            "val Loss: 0.7143 Acc: 0.5425\n",
            "\n",
            "Epoch 3/9\n",
            "----------\n",
            "train Loss: 0.7353 Acc: 0.4795\n",
            "val Loss: 0.7069 Acc: 0.4575\n",
            "\n",
            "Epoch 4/9\n",
            "----------\n",
            "train Loss: 0.7162 Acc: 0.4836\n",
            "val Loss: 0.6903 Acc: 0.5425\n",
            "\n",
            "Epoch 5/9\n",
            "----------\n",
            "train Loss: 0.7013 Acc: 0.5492\n",
            "val Loss: 0.7338 Acc: 0.5425\n",
            "\n",
            "Epoch 6/9\n",
            "----------\n",
            "train Loss: 0.7130 Acc: 0.5000\n",
            "val Loss: 0.6949 Acc: 0.4575\n",
            "\n",
            "Epoch 7/9\n",
            "----------\n",
            "train Loss: 0.7030 Acc: 0.5000\n",
            "val Loss: 0.6980 Acc: 0.4575\n",
            "\n",
            "Epoch 8/9\n",
            "----------\n",
            "train Loss: 0.6935 Acc: 0.5328\n",
            "val Loss: 0.6943 Acc: 0.4575\n",
            "\n",
            "Epoch 9/9\n",
            "----------\n",
            "train Loss: 0.6956 Acc: 0.5164\n",
            "val Loss: 0.6939 Acc: 0.4575\n",
            "\n",
            "Training complete in 1m 3s\n",
            "Best val Acc: 0.542484\n"
          ],
          "name": "stdout"
        }
      ]
    },
    {
      "cell_type": "code",
      "metadata": {
        "id": "24u1Q6QnM4Ic",
        "colab_type": "code",
        "colab": {
          "base_uri": "https://localhost:8080/",
          "height": 34
        },
        "outputId": "768e83df-02a0-4fe5-8c36-ee766cac6520"
      },
      "source": [
        "str(model_ft).split('(')[0]"
      ],
      "execution_count": 201,
      "outputs": [
        {
          "output_type": "execute_result",
          "data": {
            "text/plain": [
              "'VGG'"
            ]
          },
          "metadata": {
            "tags": []
          },
          "execution_count": 201
        }
      ]
    },
    {
      "cell_type": "code",
      "metadata": {
        "id": "YNG3J7weOUQ0",
        "colab_type": "code",
        "colab": {}
      },
      "source": [
        "df.loc[1]=['hymenoptera_data', str(model_ft).split('(')[0], False, 'no_augs', 10, best_acc.item()]"
      ],
      "execution_count": 0,
      "outputs": []
    },
    {
      "cell_type": "code",
      "metadata": {
        "id": "fdGY583NQTlR",
        "colab_type": "code",
        "colab": {
          "base_uri": "https://localhost:8080/",
          "height": 106
        },
        "outputId": "cd752217-ae4e-4747-859b-b9987c5f59bc"
      },
      "source": [
        "df"
      ],
      "execution_count": 203,
      "outputs": [
        {
          "output_type": "execute_result",
          "data": {
            "text/html": [
              "<div>\n",
              "<style scoped>\n",
              "    .dataframe tbody tr th:only-of-type {\n",
              "        vertical-align: middle;\n",
              "    }\n",
              "\n",
              "    .dataframe tbody tr th {\n",
              "        vertical-align: top;\n",
              "    }\n",
              "\n",
              "    .dataframe thead th {\n",
              "        text-align: right;\n",
              "    }\n",
              "</style>\n",
              "<table border=\"1\" class=\"dataframe\">\n",
              "  <thead>\n",
              "    <tr style=\"text-align: right;\">\n",
              "      <th></th>\n",
              "      <th>dataset</th>\n",
              "      <th>model</th>\n",
              "      <th>pretrained</th>\n",
              "      <th>augumentations</th>\n",
              "      <th>num_epochs</th>\n",
              "      <th>best_val_acc</th>\n",
              "    </tr>\n",
              "  </thead>\n",
              "  <tbody>\n",
              "    <tr>\n",
              "      <th>0</th>\n",
              "      <td>hymenoptera_data</td>\n",
              "      <td>ResNet</td>\n",
              "      <td>False</td>\n",
              "      <td>no_augs</td>\n",
              "      <td>10</td>\n",
              "      <td>0.692810</td>\n",
              "    </tr>\n",
              "    <tr>\n",
              "      <th>1</th>\n",
              "      <td>hymenoptera_data</td>\n",
              "      <td>VGG</td>\n",
              "      <td>False</td>\n",
              "      <td>no_augs</td>\n",
              "      <td>10</td>\n",
              "      <td>0.542484</td>\n",
              "    </tr>\n",
              "  </tbody>\n",
              "</table>\n",
              "</div>"
            ],
            "text/plain": [
              "            dataset   model pretrained augumentations num_epochs  best_val_acc\n",
              "0  hymenoptera_data  ResNet      False        no_augs         10      0.692810\n",
              "1  hymenoptera_data     VGG      False        no_augs         10      0.542484"
            ]
          },
          "metadata": {
            "tags": []
          },
          "execution_count": 203
        }
      ]
    },
    {
      "cell_type": "markdown",
      "metadata": {
        "id": "0DASEBkDUmYt",
        "colab_type": "text"
      },
      "source": [
        "Augumentations\n"
      ]
    },
    {
      "cell_type": "code",
      "metadata": {
        "id": "y93p9xLwR5bA",
        "colab_type": "code",
        "colab": {}
      },
      "source": [
        "data_transforms = {\n",
        "    'train': transforms.Compose([\n",
        "        #transforms.Resize((224,224)),\n",
        "        transforms.RandomResizedCrop(224),\n",
        "        transforms.RandomHorizontalFlip(),\n",
        "        transforms.ToTensor(),\n",
        "        transforms.Normalize([0.485, 0.456, 0.406], [0.229, 0.224, 0.225])\n",
        "    ]),\n",
        "    'val': transforms.Compose([\n",
        "        transforms.Resize((256,256)),\n",
        "        transforms.CenterCrop(224),\n",
        "        transforms.ToTensor(),\n",
        "        transforms.Normalize([0.485, 0.456, 0.406], [0.229, 0.224, 0.225])\n",
        "    ]),\n",
        "}\n",
        "\n",
        "#data_dir = '../input/hymenoptera-data/hymenoptera_data/hymenoptera_data'\n",
        "data_dir='/content/gdrive/My Drive/data_science/hymenoptera_data'\n",
        "image_datasets = {x: datasets.ImageFolder(os.path.join(data_dir, x),\n",
        "                                          data_transforms[x])\n",
        "                  for x in ['train', 'val']}\n",
        "dataloaders = {x: torch.utils.data.DataLoader(image_datasets[x], batch_size=4,\n",
        "                                             shuffle=True, num_workers=4)\n",
        "              for x in ['train', 'val']}\n",
        "dataset_sizes = {x: len(image_datasets[x]) for x in ['train', 'val']}\n",
        "class_names = image_datasets['train'].classes"
      ],
      "execution_count": 0,
      "outputs": []
    },
    {
      "cell_type": "code",
      "metadata": {
        "id": "lFjAuKEdU_I5",
        "colab_type": "code",
        "colab": {
          "base_uri": "https://localhost:8080/",
          "height": 54
        },
        "outputId": "3adab9c3-4928-4547-ff81-d7bcc91b760d"
      },
      "source": [
        "'''\n",
        "data_transforms = {\n",
        "    'train': A.Compose([\n",
        "        A.HueSaturationValue(\\\n",
        "                         hue_shift_limit=0.2, \\\n",
        "                         sat_shift_limit=0.2, \\\n",
        "                         val_shift_limit=0.3, \\\n",
        "                         p=0.1),\n",
        "        A.OneOf([\n",
        "            #MotionBlur(p=0.8),\n",
        "            A.MedianBlur(blur_limit=5, p=0.1),\n",
        "            A.Blur(blur_limit=8, p=0.1),\n",
        "        ], p=0.2),\n",
        "        A.ShiftScaleRotate(shift_limit=0.0625, scale_limit=0.1, rotate_limit=25, p=0.3),\n",
        "        A.HorizontalFlip(p=0.5),\n",
        "        A.VerticalFlip(p=0.2),\n",
        "        A.OpticalDistortion(p=0.3),\n",
        "        A.RandomBrightnessContrast(p=0.3),\n",
        "        A.RandomCrop(height=200, width=200, p=0.25),\n",
        "        A.Normalize([0.485, 0.456, 0.406], [0.229, 0.224, 0.225])\n",
        "        ]),\n",
        "      'val': A.Compose([\n",
        "        A.Resize(224,224),\n",
        "        A.Normalize([0.485, 0.456, 0.406], [0.229, 0.224, 0.225]),\n",
        "        A.ToTensor(num_classes=1, sigmoid=True, normalize=None)\n",
        "        #A.pytorch.transforms.ToTensorV2()\n",
        "    ]),\n",
        "}\n",
        "'''"
      ],
      "execution_count": 212,
      "outputs": [
        {
          "output_type": "execute_result",
          "data": {
            "text/plain": [
              "\"\\ndata_transforms = {\\n    'train': A.Compose([\\n        A.HueSaturationValue(                         hue_shift_limit=0.2,                          sat_shift_limit=0.2,                          val_shift_limit=0.3,                          p=0.1),\\n        A.OneOf([\\n            #MotionBlur(p=0.8),\\n            A.MedianBlur(blur_limit=5, p=0.1),\\n            A.Blur(blur_limit=8, p=0.1),\\n        ], p=0.2),\\n        A.ShiftScaleRotate(shift_limit=0.0625, scale_limit=0.1, rotate_limit=25, p=0.3),\\n        A.HorizontalFlip(p=0.5),\\n        A.VerticalFlip(p=0.2),\\n        A.OpticalDistortion(p=0.3),\\n        A.RandomBrightnessContrast(p=0.3),\\n        A.RandomCrop(height=200, width=200, p=0.25),\\n        A.Normalize([0.485, 0.456, 0.406], [0.229, 0.224, 0.225])\\n        ]),\\n      'val': A.Compose([\\n        A.Resize(224,224),\\n        A.Normalize([0.485, 0.456, 0.406], [0.229, 0.224, 0.225]),\\n        A.ToTensor(num_classes=1, sigmoid=True, normalize=None)\\n        #A.pytorch.transforms.ToTensorV2()\\n    ]),\\n}\\n\""
            ]
          },
          "metadata": {
            "tags": []
          },
          "execution_count": 212
        }
      ]
    },
    {
      "cell_type": "code",
      "metadata": {
        "id": "v13fz3b3Vx98",
        "colab_type": "code",
        "colab": {
          "base_uri": "https://localhost:8080/",
          "height": 944
        },
        "outputId": "9c9446ef-be94-4920-b77e-cf1605111258"
      },
      "source": [
        "model_ft = models.resnet18(pretrained=True)\n",
        "num_ftrs = model_ft.fc.in_features\n",
        "#for L in model_ft:\n",
        "#  L.requires_grad = False\n",
        "model_ft.requires_grad=False\n",
        "\n",
        "model_ft.fc = nn.Linear(num_ftrs, 2)\n",
        "\n",
        "model_ft = model_ft.to(device)\n",
        "\n",
        "criterion = nn.CrossEntropyLoss()\n",
        "\n",
        "# Observe that all parameters are being optimized\n",
        "#optimizer_ft = optim.SGD(model_ft.parameters(), lr=0.001, momentum=0.9)\n",
        "optimizer_ft = torch.optim.Adam(model_ft.parameters())\n",
        "\n",
        "# Decay LR by a factor of 0.1 every 7 epochs\n",
        "exp_lr_scheduler = lr_scheduler.StepLR(optimizer_ft, step_size=7, gamma=0.1)\n",
        "model_ft, best_acc = train_model(model_ft, criterion, optimizer_ft, exp_lr_scheduler,\n",
        "                       num_epochs=10)"
      ],
      "execution_count": 236,
      "outputs": [
        {
          "output_type": "stream",
          "text": [
            "Epoch 0/9\n",
            "----------\n"
          ],
          "name": "stdout"
        },
        {
          "output_type": "stream",
          "text": [
            "/usr/local/lib/python3.6/dist-packages/torch/optim/lr_scheduler.py:122: UserWarning: Detected call of `lr_scheduler.step()` before `optimizer.step()`. In PyTorch 1.1.0 and later, you should call them in the opposite order: `optimizer.step()` before `lr_scheduler.step()`.  Failure to do this will result in PyTorch skipping the first value of the learning rate schedule. See more details at https://pytorch.org/docs/stable/optim.html#how-to-adjust-learning-rate\n",
            "  \"https://pytorch.org/docs/stable/optim.html#how-to-adjust-learning-rate\", UserWarning)\n"
          ],
          "name": "stderr"
        },
        {
          "output_type": "stream",
          "text": [
            "train Loss: 0.9472 Acc: 0.5902\n",
            "val Loss: 2.7165 Acc: 0.5163\n",
            "\n",
            "Epoch 1/9\n",
            "----------\n",
            "train Loss: 0.7175 Acc: 0.6107\n",
            "val Loss: 0.6654 Acc: 0.5621\n",
            "\n",
            "Epoch 2/9\n",
            "----------\n",
            "train Loss: 0.7459 Acc: 0.5246\n",
            "val Loss: 1.6736 Acc: 0.6144\n",
            "\n",
            "Epoch 3/9\n",
            "----------\n",
            "train Loss: 0.6743 Acc: 0.6434\n",
            "val Loss: 1.4228 Acc: 0.5163\n",
            "\n",
            "Epoch 4/9\n",
            "----------\n",
            "train Loss: 0.7153 Acc: 0.5779\n",
            "val Loss: 0.8361 Acc: 0.6797\n",
            "\n",
            "Epoch 5/9\n",
            "----------\n",
            "train Loss: 0.7665 Acc: 0.5615\n",
            "val Loss: 0.6764 Acc: 0.6732\n",
            "\n",
            "Epoch 6/9\n",
            "----------\n",
            "train Loss: 0.6622 Acc: 0.6270\n",
            "val Loss: 0.6231 Acc: 0.6601\n",
            "\n",
            "Epoch 7/9\n",
            "----------\n",
            "train Loss: 0.5897 Acc: 0.7090\n",
            "val Loss: 0.6281 Acc: 0.6928\n",
            "\n",
            "Epoch 8/9\n",
            "----------\n",
            "train Loss: 0.6486 Acc: 0.6270\n",
            "val Loss: 0.6016 Acc: 0.7124\n",
            "\n",
            "Epoch 9/9\n",
            "----------\n",
            "train Loss: 0.6127 Acc: 0.6844\n",
            "val Loss: 0.7354 Acc: 0.7255\n",
            "\n",
            "Training complete in 0m 43s\n",
            "Best val Acc: 0.725490\n"
          ],
          "name": "stdout"
        }
      ]
    },
    {
      "cell_type": "code",
      "metadata": {
        "id": "54E0nR6VYggo",
        "colab_type": "code",
        "colab": {}
      },
      "source": [
        "df.loc[2]=['hymenoptera_data', str(model_ft).split('(')[0], True, 'simple_augs', 10, best_acc.item()]"
      ],
      "execution_count": 0,
      "outputs": []
    },
    {
      "cell_type": "code",
      "metadata": {
        "id": "rqZeBkQYaK_A",
        "colab_type": "code",
        "colab": {
          "base_uri": "https://localhost:8080/",
          "height": 225
        },
        "outputId": "236ef849-534b-49ac-9d4e-f004ebc7b77c"
      },
      "source": [
        "df"
      ],
      "execution_count": 238,
      "outputs": [
        {
          "output_type": "execute_result",
          "data": {
            "text/html": [
              "<div>\n",
              "<style scoped>\n",
              "    .dataframe tbody tr th:only-of-type {\n",
              "        vertical-align: middle;\n",
              "    }\n",
              "\n",
              "    .dataframe tbody tr th {\n",
              "        vertical-align: top;\n",
              "    }\n",
              "\n",
              "    .dataframe thead th {\n",
              "        text-align: right;\n",
              "    }\n",
              "</style>\n",
              "<table border=\"1\" class=\"dataframe\">\n",
              "  <thead>\n",
              "    <tr style=\"text-align: right;\">\n",
              "      <th></th>\n",
              "      <th>dataset</th>\n",
              "      <th>model</th>\n",
              "      <th>pretrained</th>\n",
              "      <th>augumentations</th>\n",
              "      <th>num_epochs</th>\n",
              "      <th>best_val_acc</th>\n",
              "    </tr>\n",
              "  </thead>\n",
              "  <tbody>\n",
              "    <tr>\n",
              "      <th>0</th>\n",
              "      <td>hymenoptera_data</td>\n",
              "      <td>ResNet</td>\n",
              "      <td>False</td>\n",
              "      <td>no_augs</td>\n",
              "      <td>10</td>\n",
              "      <td>0.692810</td>\n",
              "    </tr>\n",
              "    <tr>\n",
              "      <th>1</th>\n",
              "      <td>hymenoptera_data</td>\n",
              "      <td>VGG</td>\n",
              "      <td>False</td>\n",
              "      <td>no_augs</td>\n",
              "      <td>10</td>\n",
              "      <td>0.542484</td>\n",
              "    </tr>\n",
              "    <tr>\n",
              "      <th>2</th>\n",
              "      <td>hymenoptera_data</td>\n",
              "      <td>ResNet</td>\n",
              "      <td>True</td>\n",
              "      <td>simple_augs</td>\n",
              "      <td>10</td>\n",
              "      <td>0.725490</td>\n",
              "    </tr>\n",
              "    <tr>\n",
              "      <th>3</th>\n",
              "      <td>hymenoptera_data</td>\n",
              "      <td>VGG</td>\n",
              "      <td>True</td>\n",
              "      <td>simple_augs</td>\n",
              "      <td>30</td>\n",
              "      <td>0.620915</td>\n",
              "    </tr>\n",
              "    <tr>\n",
              "      <th>4</th>\n",
              "      <td>hymenoptera_data</td>\n",
              "      <td>ResNet</td>\n",
              "      <td>True</td>\n",
              "      <td>no_augs</td>\n",
              "      <td>10</td>\n",
              "      <td>0.797386</td>\n",
              "    </tr>\n",
              "    <tr>\n",
              "      <th>5</th>\n",
              "      <td>hymenoptera_data</td>\n",
              "      <td>VGG</td>\n",
              "      <td>True</td>\n",
              "      <td>no_augs</td>\n",
              "      <td>10</td>\n",
              "      <td>0.666667</td>\n",
              "    </tr>\n",
              "  </tbody>\n",
              "</table>\n",
              "</div>"
            ],
            "text/plain": [
              "            dataset   model pretrained augumentations num_epochs  best_val_acc\n",
              "0  hymenoptera_data  ResNet      False        no_augs         10      0.692810\n",
              "1  hymenoptera_data     VGG      False        no_augs         10      0.542484\n",
              "2  hymenoptera_data  ResNet       True    simple_augs         10      0.725490\n",
              "3  hymenoptera_data     VGG       True    simple_augs         30      0.620915\n",
              "4  hymenoptera_data  ResNet       True        no_augs         10      0.797386\n",
              "5  hymenoptera_data     VGG       True        no_augs         10      0.666667"
            ]
          },
          "metadata": {
            "tags": []
          },
          "execution_count": 238
        }
      ]
    },
    {
      "cell_type": "code",
      "metadata": {
        "id": "z6v3AqQcaL9L",
        "colab_type": "code",
        "colab": {}
      },
      "source": [
        "#ПОКА НЕ НАШЕЛ КАК у VGG16 ЗАМОРОЗИТЬ слои извлекающие фичи и заменить классификационную голову\n",
        "model_ft = models.vgg16(pretrained=True)\n",
        "#num_ftrs = model_ft.fc.in_features\n",
        "#model_ft.fc = nn.Linear(num_ftrs, 2)\n",
        "\n",
        "model_ft = model_ft.to(device)\n",
        "\n",
        "criterion = nn.CrossEntropyLoss()\n",
        "optimizer_ft = torch.optim.Adam(model_ft.parameters())\n",
        "exp_lr_scheduler = lr_scheduler.StepLR(optimizer_ft, step_size=7, gamma=0.1)"
      ],
      "execution_count": 0,
      "outputs": []
    },
    {
      "cell_type": "code",
      "metadata": {
        "id": "mvlsDFXZagq1",
        "colab_type": "code",
        "colab": {
          "base_uri": "https://localhost:8080/",
          "height": 1000
        },
        "outputId": "1b2b934a-8610-484c-ab79-7f869c60deed"
      },
      "source": [
        "#ЗАПУСТИЛ 15 ЭПОХ, чтобы увидеть точность больше 0.5. Обучение не идет в этой конфигурации\n",
        "model_ft, best_acc = train_model(model_ft, criterion, optimizer_ft, exp_lr_scheduler,\n",
        "                       num_epochs=15)"
      ],
      "execution_count": 243,
      "outputs": [
        {
          "output_type": "stream",
          "text": [
            "Epoch 0/14\n",
            "----------\n"
          ],
          "name": "stdout"
        },
        {
          "output_type": "stream",
          "text": [
            "/usr/local/lib/python3.6/dist-packages/torch/optim/lr_scheduler.py:122: UserWarning: Detected call of `lr_scheduler.step()` before `optimizer.step()`. In PyTorch 1.1.0 and later, you should call them in the opposite order: `optimizer.step()` before `lr_scheduler.step()`.  Failure to do this will result in PyTorch skipping the first value of the learning rate schedule. See more details at https://pytorch.org/docs/stable/optim.html#how-to-adjust-learning-rate\n",
            "  \"https://pytorch.org/docs/stable/optim.html#how-to-adjust-learning-rate\", UserWarning)\n"
          ],
          "name": "stderr"
        },
        {
          "output_type": "stream",
          "text": [
            "train Loss: 2.4676 Acc: 0.5205\n",
            "val Loss: 0.6997 Acc: 0.4575\n",
            "\n",
            "Epoch 1/14\n",
            "----------\n",
            "train Loss: 0.7754 Acc: 0.4508\n",
            "val Loss: 0.7099 Acc: 0.4575\n",
            "\n",
            "Epoch 2/14\n",
            "----------\n",
            "train Loss: 0.7388 Acc: 0.5000\n",
            "val Loss: 0.7104 Acc: 0.4575\n",
            "\n",
            "Epoch 3/14\n",
            "----------\n",
            "train Loss: 0.7266 Acc: 0.4918\n",
            "val Loss: 0.6905 Acc: 0.5425\n",
            "\n",
            "Epoch 4/14\n",
            "----------\n",
            "train Loss: 0.7507 Acc: 0.4754\n",
            "val Loss: 0.6934 Acc: 0.5425\n",
            "\n",
            "Epoch 5/14\n",
            "----------\n",
            "train Loss: 0.7147 Acc: 0.5000\n",
            "val Loss: 0.6912 Acc: 0.5425\n",
            "\n",
            "Epoch 6/14\n",
            "----------\n",
            "train Loss: 0.7060 Acc: 0.5000\n",
            "val Loss: 0.6931 Acc: 0.5425\n",
            "\n",
            "Epoch 7/14\n",
            "----------\n",
            "train Loss: 0.7201 Acc: 0.4426\n",
            "val Loss: 0.6922 Acc: 0.5425\n",
            "\n",
            "Epoch 8/14\n",
            "----------\n",
            "train Loss: 0.7145 Acc: 0.5164\n",
            "val Loss: 0.6948 Acc: 0.4575\n",
            "\n",
            "Epoch 9/14\n",
            "----------\n",
            "train Loss: 0.7096 Acc: 0.4631\n",
            "val Loss: 0.6944 Acc: 0.4575\n",
            "\n",
            "Epoch 10/14\n",
            "----------\n",
            "train Loss: 0.6981 Acc: 0.5287\n",
            "val Loss: 0.6937 Acc: 0.4575\n",
            "\n",
            "Epoch 11/14\n",
            "----------\n",
            "train Loss: 0.7092 Acc: 0.5205\n",
            "val Loss: 0.6916 Acc: 0.5425\n",
            "\n",
            "Epoch 12/14\n",
            "----------\n",
            "train Loss: 0.6949 Acc: 0.5000\n",
            "val Loss: 0.6918 Acc: 0.5425\n",
            "\n",
            "Epoch 13/14\n",
            "----------\n",
            "train Loss: 0.6897 Acc: 0.5328\n",
            "val Loss: 0.6920 Acc: 0.5425\n",
            "\n",
            "Epoch 14/14\n",
            "----------\n",
            "train Loss: 0.6925 Acc: 0.5246\n",
            "val Loss: 0.6923 Acc: 0.5425\n",
            "\n",
            "Training complete in 1m 38s\n",
            "Best val Acc: 0.542484\n"
          ],
          "name": "stdout"
        }
      ]
    },
    {
      "cell_type": "code",
      "metadata": {
        "id": "6acjm3M1av_m",
        "colab_type": "code",
        "colab": {}
      },
      "source": [
        "df.loc[3]=['hymenoptera_data', str(model_ft).split('(')[0], True, 'simple_augs', 15, best_acc.item()]"
      ],
      "execution_count": 0,
      "outputs": []
    },
    {
      "cell_type": "code",
      "metadata": {
        "id": "3k92K4x9b8md",
        "colab_type": "code",
        "colab": {
          "base_uri": "https://localhost:8080/",
          "height": 225
        },
        "outputId": "8db2795d-d877-4dde-98bd-8174cfc46a81"
      },
      "source": [
        "df"
      ],
      "execution_count": 245,
      "outputs": [
        {
          "output_type": "execute_result",
          "data": {
            "text/html": [
              "<div>\n",
              "<style scoped>\n",
              "    .dataframe tbody tr th:only-of-type {\n",
              "        vertical-align: middle;\n",
              "    }\n",
              "\n",
              "    .dataframe tbody tr th {\n",
              "        vertical-align: top;\n",
              "    }\n",
              "\n",
              "    .dataframe thead th {\n",
              "        text-align: right;\n",
              "    }\n",
              "</style>\n",
              "<table border=\"1\" class=\"dataframe\">\n",
              "  <thead>\n",
              "    <tr style=\"text-align: right;\">\n",
              "      <th></th>\n",
              "      <th>dataset</th>\n",
              "      <th>model</th>\n",
              "      <th>pretrained</th>\n",
              "      <th>augumentations</th>\n",
              "      <th>num_epochs</th>\n",
              "      <th>best_val_acc</th>\n",
              "    </tr>\n",
              "  </thead>\n",
              "  <tbody>\n",
              "    <tr>\n",
              "      <th>0</th>\n",
              "      <td>hymenoptera_data</td>\n",
              "      <td>ResNet</td>\n",
              "      <td>False</td>\n",
              "      <td>no_augs</td>\n",
              "      <td>10</td>\n",
              "      <td>0.692810</td>\n",
              "    </tr>\n",
              "    <tr>\n",
              "      <th>1</th>\n",
              "      <td>hymenoptera_data</td>\n",
              "      <td>VGG</td>\n",
              "      <td>False</td>\n",
              "      <td>no_augs</td>\n",
              "      <td>10</td>\n",
              "      <td>0.542484</td>\n",
              "    </tr>\n",
              "    <tr>\n",
              "      <th>2</th>\n",
              "      <td>hymenoptera_data</td>\n",
              "      <td>ResNet</td>\n",
              "      <td>True</td>\n",
              "      <td>simple_augs</td>\n",
              "      <td>10</td>\n",
              "      <td>0.725490</td>\n",
              "    </tr>\n",
              "    <tr>\n",
              "      <th>3</th>\n",
              "      <td>hymenoptera_data</td>\n",
              "      <td>VGG</td>\n",
              "      <td>True</td>\n",
              "      <td>simple_augs</td>\n",
              "      <td>15</td>\n",
              "      <td>0.542484</td>\n",
              "    </tr>\n",
              "    <tr>\n",
              "      <th>4</th>\n",
              "      <td>hymenoptera_data</td>\n",
              "      <td>ResNet</td>\n",
              "      <td>True</td>\n",
              "      <td>no_augs</td>\n",
              "      <td>10</td>\n",
              "      <td>0.797386</td>\n",
              "    </tr>\n",
              "    <tr>\n",
              "      <th>5</th>\n",
              "      <td>hymenoptera_data</td>\n",
              "      <td>VGG</td>\n",
              "      <td>True</td>\n",
              "      <td>no_augs</td>\n",
              "      <td>10</td>\n",
              "      <td>0.666667</td>\n",
              "    </tr>\n",
              "  </tbody>\n",
              "</table>\n",
              "</div>"
            ],
            "text/plain": [
              "            dataset   model pretrained augumentations num_epochs  best_val_acc\n",
              "0  hymenoptera_data  ResNet      False        no_augs         10      0.692810\n",
              "1  hymenoptera_data     VGG      False        no_augs         10      0.542484\n",
              "2  hymenoptera_data  ResNet       True    simple_augs         10      0.725490\n",
              "3  hymenoptera_data     VGG       True    simple_augs         15      0.542484\n",
              "4  hymenoptera_data  ResNet       True        no_augs         10      0.797386\n",
              "5  hymenoptera_data     VGG       True        no_augs         10      0.666667"
            ]
          },
          "metadata": {
            "tags": []
          },
          "execution_count": 245
        }
      ]
    },
    {
      "cell_type": "code",
      "metadata": {
        "id": "mxenZSbib992",
        "colab_type": "code",
        "colab": {}
      },
      "source": [
        "#ЕЩЕ два запуска без аугументаций, но с претренированными весами"
      ],
      "execution_count": 0,
      "outputs": []
    },
    {
      "cell_type": "code",
      "metadata": {
        "id": "MZXik9k_c1O9",
        "colab_type": "code",
        "colab": {}
      },
      "source": [
        "data_transforms = {\n",
        "    'train': transforms.Compose([\n",
        "        transforms.Resize((224,224)),\n",
        "        #transforms.RandomResizedCrop(224),\n",
        "        #transforms.RandomHorizontalFlip(),\n",
        "        transforms.ToTensor(),\n",
        "        #transforms.Normalize([0.485, 0.456, 0.406], [0.229, 0.224, 0.225])\n",
        "    ]),\n",
        "    'val': transforms.Compose([\n",
        "        transforms.Resize((224,224)),\n",
        "        #transforms.CenterCrop(224),\n",
        "        transforms.ToTensor(),\n",
        "        #transforms.Normalize([0.485, 0.456, 0.406], [0.229, 0.224, 0.225])\n",
        "    ]),\n",
        "}\n",
        "\n",
        "#data_dir = '../input/hymenoptera-data/hymenoptera_data/hymenoptera_data'\n",
        "data_dir='/content/gdrive/My Drive/data_science/hymenoptera_data'\n",
        "image_datasets = {x: datasets.ImageFolder(os.path.join(data_dir, x),\n",
        "                                          data_transforms[x])\n",
        "                  for x in ['train', 'val']}\n",
        "dataloaders = {x: torch.utils.data.DataLoader(image_datasets[x], batch_size=4,\n",
        "                                             shuffle=True, num_workers=4)\n",
        "              for x in ['train', 'val']}"
      ],
      "execution_count": 0,
      "outputs": []
    },
    {
      "cell_type": "code",
      "metadata": {
        "id": "gJoeCiF-c1Sq",
        "colab_type": "code",
        "colab": {
          "base_uri": "https://localhost:8080/",
          "height": 944
        },
        "outputId": "3b72db0b-7b19-4c2d-e4f5-908ff3001d3a"
      },
      "source": [
        "model_ft = models.resnet18(pretrained=True)\n",
        "num_ftrs = model_ft.fc.in_features\n",
        "#for L in model_ft:\n",
        "#  L.requires_grad = False\n",
        "model_ft.requires_grad=False\n",
        "\n",
        "model_ft.fc = nn.Linear(num_ftrs, 2)\n",
        "\n",
        "model_ft = model_ft.to(device)\n",
        "\n",
        "criterion = nn.CrossEntropyLoss()\n",
        "\n",
        "# Observe that all parameters are being optimized\n",
        "#optimizer_ft = optim.SGD(model_ft.parameters(), lr=0.001, momentum=0.9)\n",
        "optimizer_ft = torch.optim.Adam(model_ft.parameters())\n",
        "\n",
        "# Decay LR by a factor of 0.1 every 7 epochs\n",
        "exp_lr_scheduler = lr_scheduler.StepLR(optimizer_ft, step_size=7, gamma=0.1)\n",
        "model_ft, best_acc = train_model(model_ft, criterion, optimizer_ft, exp_lr_scheduler,\n",
        "                       num_epochs=10)"
      ],
      "execution_count": 228,
      "outputs": [
        {
          "output_type": "stream",
          "text": [
            "Epoch 0/9\n",
            "----------\n"
          ],
          "name": "stdout"
        },
        {
          "output_type": "stream",
          "text": [
            "/usr/local/lib/python3.6/dist-packages/torch/optim/lr_scheduler.py:122: UserWarning: Detected call of `lr_scheduler.step()` before `optimizer.step()`. In PyTorch 1.1.0 and later, you should call them in the opposite order: `optimizer.step()` before `lr_scheduler.step()`.  Failure to do this will result in PyTorch skipping the first value of the learning rate schedule. See more details at https://pytorch.org/docs/stable/optim.html#how-to-adjust-learning-rate\n",
            "  \"https://pytorch.org/docs/stable/optim.html#how-to-adjust-learning-rate\", UserWarning)\n"
          ],
          "name": "stderr"
        },
        {
          "output_type": "stream",
          "text": [
            "train Loss: 0.9224 Acc: 0.5902\n",
            "val Loss: 0.7863 Acc: 0.6078\n",
            "\n",
            "Epoch 1/9\n",
            "----------\n",
            "train Loss: 0.7362 Acc: 0.6148\n",
            "val Loss: 0.6595 Acc: 0.6797\n",
            "\n",
            "Epoch 2/9\n",
            "----------\n",
            "train Loss: 0.6505 Acc: 0.6680\n",
            "val Loss: 1.0006 Acc: 0.5882\n",
            "\n",
            "Epoch 3/9\n",
            "----------\n",
            "train Loss: 0.6055 Acc: 0.6967\n",
            "val Loss: 1.4912 Acc: 0.6078\n",
            "\n",
            "Epoch 4/9\n",
            "----------\n",
            "train Loss: 0.6543 Acc: 0.6844\n",
            "val Loss: 1.2578 Acc: 0.5621\n",
            "\n",
            "Epoch 5/9\n",
            "----------\n",
            "train Loss: 0.5836 Acc: 0.6844\n",
            "val Loss: 0.5502 Acc: 0.7451\n",
            "\n",
            "Epoch 6/9\n",
            "----------\n",
            "train Loss: 0.4572 Acc: 0.7910\n",
            "val Loss: 0.5371 Acc: 0.7647\n",
            "\n",
            "Epoch 7/9\n",
            "----------\n",
            "train Loss: 0.4101 Acc: 0.8279\n",
            "val Loss: 0.5413 Acc: 0.7582\n",
            "\n",
            "Epoch 8/9\n",
            "----------\n",
            "train Loss: 0.4631 Acc: 0.7787\n",
            "val Loss: 0.4822 Acc: 0.7843\n",
            "\n",
            "Epoch 9/9\n",
            "----------\n",
            "train Loss: 0.3586 Acc: 0.8525\n",
            "val Loss: 0.4745 Acc: 0.7974\n",
            "\n",
            "Training complete in 0m 42s\n",
            "Best val Acc: 0.797386\n"
          ],
          "name": "stdout"
        }
      ]
    },
    {
      "cell_type": "code",
      "metadata": {
        "id": "4e2Wnv-Vc1WV",
        "colab_type": "code",
        "colab": {}
      },
      "source": [
        "df.loc[4]=['hymenoptera_data', str(model_ft).split('(')[0], True, 'no_augs', 10, best_acc.item()]"
      ],
      "execution_count": 0,
      "outputs": []
    },
    {
      "cell_type": "code",
      "metadata": {
        "id": "SYm-MYMyc1ZP",
        "colab_type": "code",
        "colab": {
          "base_uri": "https://localhost:8080/",
          "height": 195
        },
        "outputId": "1ae6781c-8caf-4f06-c5b5-db1e5a6b171f"
      },
      "source": [
        "df"
      ],
      "execution_count": 230,
      "outputs": [
        {
          "output_type": "execute_result",
          "data": {
            "text/html": [
              "<div>\n",
              "<style scoped>\n",
              "    .dataframe tbody tr th:only-of-type {\n",
              "        vertical-align: middle;\n",
              "    }\n",
              "\n",
              "    .dataframe tbody tr th {\n",
              "        vertical-align: top;\n",
              "    }\n",
              "\n",
              "    .dataframe thead th {\n",
              "        text-align: right;\n",
              "    }\n",
              "</style>\n",
              "<table border=\"1\" class=\"dataframe\">\n",
              "  <thead>\n",
              "    <tr style=\"text-align: right;\">\n",
              "      <th></th>\n",
              "      <th>dataset</th>\n",
              "      <th>model</th>\n",
              "      <th>pretrained</th>\n",
              "      <th>augumentations</th>\n",
              "      <th>num_epochs</th>\n",
              "      <th>best_val_acc</th>\n",
              "    </tr>\n",
              "  </thead>\n",
              "  <tbody>\n",
              "    <tr>\n",
              "      <th>0</th>\n",
              "      <td>hymenoptera_data</td>\n",
              "      <td>ResNet</td>\n",
              "      <td>False</td>\n",
              "      <td>no_augs</td>\n",
              "      <td>10</td>\n",
              "      <td>0.692810</td>\n",
              "    </tr>\n",
              "    <tr>\n",
              "      <th>1</th>\n",
              "      <td>hymenoptera_data</td>\n",
              "      <td>VGG</td>\n",
              "      <td>False</td>\n",
              "      <td>no_augs</td>\n",
              "      <td>10</td>\n",
              "      <td>0.542484</td>\n",
              "    </tr>\n",
              "    <tr>\n",
              "      <th>2</th>\n",
              "      <td>hymenoptera_data</td>\n",
              "      <td>ResNet</td>\n",
              "      <td>True</td>\n",
              "      <td>simple_augs</td>\n",
              "      <td>10</td>\n",
              "      <td>0.712418</td>\n",
              "    </tr>\n",
              "    <tr>\n",
              "      <th>3</th>\n",
              "      <td>hymenoptera_data</td>\n",
              "      <td>VGG</td>\n",
              "      <td>True</td>\n",
              "      <td>simple_augs</td>\n",
              "      <td>30</td>\n",
              "      <td>0.620915</td>\n",
              "    </tr>\n",
              "    <tr>\n",
              "      <th>4</th>\n",
              "      <td>hymenoptera_data</td>\n",
              "      <td>ResNet</td>\n",
              "      <td>True</td>\n",
              "      <td>no_augs</td>\n",
              "      <td>10</td>\n",
              "      <td>0.797386</td>\n",
              "    </tr>\n",
              "  </tbody>\n",
              "</table>\n",
              "</div>"
            ],
            "text/plain": [
              "            dataset   model pretrained augumentations num_epochs  best_val_acc\n",
              "0  hymenoptera_data  ResNet      False        no_augs         10      0.692810\n",
              "1  hymenoptera_data     VGG      False        no_augs         10      0.542484\n",
              "2  hymenoptera_data  ResNet       True    simple_augs         10      0.712418\n",
              "3  hymenoptera_data     VGG       True    simple_augs         30      0.620915\n",
              "4  hymenoptera_data  ResNet       True        no_augs         10      0.797386"
            ]
          },
          "metadata": {
            "tags": []
          },
          "execution_count": 230
        }
      ]
    },
    {
      "cell_type": "code",
      "metadata": {
        "id": "J4KeyXHGdaPt",
        "colab_type": "code",
        "colab": {}
      },
      "source": [
        "model_ft = models.vgg16(pretrained=True)\n",
        "#num_ftrs = model_ft.fc.in_features\n",
        "#model_ft.fc = nn.Linear(num_ftrs, 2)\n",
        "\n",
        "model_ft = model_ft.to(device)\n",
        "\n",
        "criterion = nn.CrossEntropyLoss()\n",
        "optimizer_ft = torch.optim.Adam(model_ft.parameters())\n",
        "exp_lr_scheduler = lr_scheduler.StepLR(optimizer_ft, step_size=7, gamma=0.1)"
      ],
      "execution_count": 0,
      "outputs": []
    },
    {
      "cell_type": "code",
      "metadata": {
        "id": "TzPYRUJ_d0mH",
        "colab_type": "code",
        "colab": {
          "base_uri": "https://localhost:8080/",
          "height": 944
        },
        "outputId": "02b09ca8-9fd9-48b4-a687-37035ff3544d"
      },
      "source": [
        "model_ft, best_acc = train_model(model_ft, criterion, optimizer_ft, exp_lr_scheduler,\n",
        "                       num_epochs=10)"
      ],
      "execution_count": 232,
      "outputs": [
        {
          "output_type": "stream",
          "text": [
            "Epoch 0/9\n",
            "----------\n"
          ],
          "name": "stdout"
        },
        {
          "output_type": "stream",
          "text": [
            "/usr/local/lib/python3.6/dist-packages/torch/optim/lr_scheduler.py:122: UserWarning: Detected call of `lr_scheduler.step()` before `optimizer.step()`. In PyTorch 1.1.0 and later, you should call them in the opposite order: `optimizer.step()` before `lr_scheduler.step()`.  Failure to do this will result in PyTorch skipping the first value of the learning rate schedule. See more details at https://pytorch.org/docs/stable/optim.html#how-to-adjust-learning-rate\n",
            "  \"https://pytorch.org/docs/stable/optim.html#how-to-adjust-learning-rate\", UserWarning)\n"
          ],
          "name": "stderr"
        },
        {
          "output_type": "stream",
          "text": [
            "train Loss: 2.3062 Acc: 0.4713\n",
            "val Loss: 0.7059 Acc: 0.5425\n",
            "\n",
            "Epoch 1/9\n",
            "----------\n",
            "train Loss: 0.7927 Acc: 0.4918\n",
            "val Loss: 0.6433 Acc: 0.6667\n",
            "\n",
            "Epoch 2/9\n",
            "----------\n",
            "train Loss: 0.7610 Acc: 0.4795\n",
            "val Loss: 0.7539 Acc: 0.5425\n",
            "\n",
            "Epoch 3/9\n",
            "----------\n",
            "train Loss: 0.7248 Acc: 0.5041\n",
            "val Loss: 0.8590 Acc: 0.4575\n",
            "\n",
            "Epoch 4/9\n",
            "----------\n",
            "train Loss: 0.7524 Acc: 0.5369\n",
            "val Loss: 0.6988 Acc: 0.5425\n",
            "\n",
            "Epoch 5/9\n",
            "----------\n",
            "train Loss: 0.7285 Acc: 0.4508\n",
            "val Loss: 0.7534 Acc: 0.4575\n",
            "\n",
            "Epoch 6/9\n",
            "----------\n",
            "train Loss: 0.7381 Acc: 0.4836\n",
            "val Loss: 0.6987 Acc: 0.4575\n",
            "\n",
            "Epoch 7/9\n",
            "----------\n",
            "train Loss: 0.7043 Acc: 0.4918\n",
            "val Loss: 0.6955 Acc: 0.4575\n",
            "\n",
            "Epoch 8/9\n",
            "----------\n",
            "train Loss: 0.7036 Acc: 0.5000\n",
            "val Loss: 0.6952 Acc: 0.4575\n",
            "\n",
            "Epoch 9/9\n",
            "----------\n",
            "train Loss: 0.6857 Acc: 0.5492\n",
            "val Loss: 0.6915 Acc: 0.5425\n",
            "\n",
            "Training complete in 1m 4s\n",
            "Best val Acc: 0.666667\n"
          ],
          "name": "stdout"
        }
      ]
    },
    {
      "cell_type": "code",
      "metadata": {
        "id": "_bnA0Ua_df7U",
        "colab_type": "code",
        "colab": {}
      },
      "source": [
        "df.loc[5]=['hymenoptera_data', str(model_ft).split('(')[0], True, 'no_augs', 10, best_acc.item()]"
      ],
      "execution_count": 0,
      "outputs": []
    },
    {
      "cell_type": "code",
      "metadata": {
        "id": "-djNJehoeH_w",
        "colab_type": "code",
        "colab": {
          "base_uri": "https://localhost:8080/",
          "height": 225
        },
        "outputId": "550668e4-0018-4a5b-bf4e-b180c8c7fb2e"
      },
      "source": [
        "df"
      ],
      "execution_count": 246,
      "outputs": [
        {
          "output_type": "execute_result",
          "data": {
            "text/html": [
              "<div>\n",
              "<style scoped>\n",
              "    .dataframe tbody tr th:only-of-type {\n",
              "        vertical-align: middle;\n",
              "    }\n",
              "\n",
              "    .dataframe tbody tr th {\n",
              "        vertical-align: top;\n",
              "    }\n",
              "\n",
              "    .dataframe thead th {\n",
              "        text-align: right;\n",
              "    }\n",
              "</style>\n",
              "<table border=\"1\" class=\"dataframe\">\n",
              "  <thead>\n",
              "    <tr style=\"text-align: right;\">\n",
              "      <th></th>\n",
              "      <th>dataset</th>\n",
              "      <th>model</th>\n",
              "      <th>pretrained</th>\n",
              "      <th>augumentations</th>\n",
              "      <th>num_epochs</th>\n",
              "      <th>best_val_acc</th>\n",
              "    </tr>\n",
              "  </thead>\n",
              "  <tbody>\n",
              "    <tr>\n",
              "      <th>0</th>\n",
              "      <td>hymenoptera_data</td>\n",
              "      <td>ResNet</td>\n",
              "      <td>False</td>\n",
              "      <td>no_augs</td>\n",
              "      <td>10</td>\n",
              "      <td>0.692810</td>\n",
              "    </tr>\n",
              "    <tr>\n",
              "      <th>1</th>\n",
              "      <td>hymenoptera_data</td>\n",
              "      <td>VGG</td>\n",
              "      <td>False</td>\n",
              "      <td>no_augs</td>\n",
              "      <td>10</td>\n",
              "      <td>0.542484</td>\n",
              "    </tr>\n",
              "    <tr>\n",
              "      <th>2</th>\n",
              "      <td>hymenoptera_data</td>\n",
              "      <td>ResNet</td>\n",
              "      <td>True</td>\n",
              "      <td>simple_augs</td>\n",
              "      <td>10</td>\n",
              "      <td>0.725490</td>\n",
              "    </tr>\n",
              "    <tr>\n",
              "      <th>3</th>\n",
              "      <td>hymenoptera_data</td>\n",
              "      <td>VGG</td>\n",
              "      <td>True</td>\n",
              "      <td>simple_augs</td>\n",
              "      <td>15</td>\n",
              "      <td>0.542484</td>\n",
              "    </tr>\n",
              "    <tr>\n",
              "      <th>4</th>\n",
              "      <td>hymenoptera_data</td>\n",
              "      <td>ResNet</td>\n",
              "      <td>True</td>\n",
              "      <td>no_augs</td>\n",
              "      <td>10</td>\n",
              "      <td>0.797386</td>\n",
              "    </tr>\n",
              "    <tr>\n",
              "      <th>5</th>\n",
              "      <td>hymenoptera_data</td>\n",
              "      <td>VGG</td>\n",
              "      <td>True</td>\n",
              "      <td>no_augs</td>\n",
              "      <td>10</td>\n",
              "      <td>0.666667</td>\n",
              "    </tr>\n",
              "  </tbody>\n",
              "</table>\n",
              "</div>"
            ],
            "text/plain": [
              "            dataset   model pretrained augumentations num_epochs  best_val_acc\n",
              "0  hymenoptera_data  ResNet      False        no_augs         10      0.692810\n",
              "1  hymenoptera_data     VGG      False        no_augs         10      0.542484\n",
              "2  hymenoptera_data  ResNet       True    simple_augs         10      0.725490\n",
              "3  hymenoptera_data     VGG       True    simple_augs         15      0.542484\n",
              "4  hymenoptera_data  ResNet       True        no_augs         10      0.797386\n",
              "5  hymenoptera_data     VGG       True        no_augs         10      0.666667"
            ]
          },
          "metadata": {
            "tags": []
          },
          "execution_count": 246
        }
      ]
    },
    {
      "cell_type": "code",
      "metadata": {
        "id": "flnvTJ5seJHK",
        "colab_type": "code",
        "colab": {}
      },
      "source": [
        "#В режиме файнтюинга точность выше.\n",
        "\n",
        "#Резнет лучше, чем VGG. Возможно, нужно научиться готовить VGG.\n",
        "\n",
        "#Почему-то без аугументаций цифры лучше. \n",
        "#Скорее всего, нужно правильно подобрать кропы. \n",
        "#Муравьи в очень разных масштабах. "
      ],
      "execution_count": 0,
      "outputs": []
    }
  ]
}