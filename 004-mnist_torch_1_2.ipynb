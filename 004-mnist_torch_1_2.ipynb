{
 "cells": [
  {
   "cell_type": "code",
   "execution_count": 1,
   "metadata": {},
   "outputs": [],
   "source": [
    "%matplotlib inline\n",
    "import cv2\n",
    "import torch\n",
    "#from tensorflow import keras\n",
    "import numpy as np\n",
    "import matplotlib.pyplot as plt"
   ]
  },
  {
   "cell_type": "code",
   "execution_count": 56,
   "metadata": {},
   "outputs": [
    {
     "name": "stdout",
     "output_type": "stream",
     "text": [
      "1.0.1.post2\n"
     ]
    }
   ],
   "source": [
    "#torch.version\n",
    "print(torch.__version__)"
   ]
  },
  {
   "cell_type": "code",
   "execution_count": null,
   "metadata": {},
   "outputs": [],
   "source": [
    "#пока пользуюсь numpy csv для извлечения. С даталоадером торча еще не разобрался"
   ]
  },
  {
   "cell_type": "code",
   "execution_count": 3,
   "metadata": {},
   "outputs": [],
   "source": [
    "train = np.loadtxt('../002/data/digit/train.csv', delimiter=',', skiprows=1)\n",
    "test = np.loadtxt('../002/data/digit/test.csv', delimiter=',', skiprows=1)"
   ]
  },
  {
   "cell_type": "code",
   "execution_count": 4,
   "metadata": {},
   "outputs": [
    {
     "data": {
      "text/plain": [
       "(42000, 785)"
      ]
     },
     "execution_count": 4,
     "metadata": {},
     "output_type": "execute_result"
    }
   ],
   "source": [
    "train.shape"
   ]
  },
  {
   "cell_type": "code",
   "execution_count": 5,
   "metadata": {},
   "outputs": [],
   "source": [
    "# сохраняем разметку в отдельную переменную\n",
    "train_label = train[:, 0]\n",
    "# пикселы - в другую \n",
    "train = train[:, 1:]\n",
    "#test_img = test.shape[]"
   ]
  },
  {
   "cell_type": "code",
   "execution_count": 6,
   "metadata": {},
   "outputs": [],
   "source": [
    "#отбираем единицы и двойки\n",
    "one=np.where(train_label ==1)\n",
    "two=np.where(train_label ==2)"
   ]
  },
  {
   "cell_type": "code",
   "execution_count": 7,
   "metadata": {},
   "outputs": [
    {
     "data": {
      "text/plain": [
       "4177"
      ]
     },
     "execution_count": 7,
     "metadata": {},
     "output_type": "execute_result"
    }
   ],
   "source": [
    "len(two[0])"
   ]
  },
  {
   "cell_type": "code",
   "execution_count": 8,
   "metadata": {},
   "outputs": [
    {
     "data": {
      "text/plain": [
       "(4684,)"
      ]
     },
     "execution_count": 8,
     "metadata": {},
     "output_type": "execute_result"
    }
   ],
   "source": [
    "train_label[np.where(train_label ==1)].shape"
   ]
  },
  {
   "cell_type": "code",
   "execution_count": 9,
   "metadata": {},
   "outputs": [],
   "source": [
    "one_two_ind=np.concatenate((one, two), axis=1)[0]"
   ]
  },
  {
   "cell_type": "code",
   "execution_count": 10,
   "metadata": {
    "scrolled": true
   },
   "outputs": [
    {
     "data": {
      "text/plain": [
       "array([    0,     2,    12, ..., 41970, 41976, 41981])"
      ]
     },
     "execution_count": 10,
     "metadata": {},
     "output_type": "execute_result"
    }
   ],
   "source": [
    "one_two_ind"
   ]
  },
  {
   "cell_type": "code",
   "execution_count": 11,
   "metadata": {},
   "outputs": [
    {
     "data": {
      "text/plain": [
       "array([1., 1., 1., ..., 2., 2., 2.])"
      ]
     },
     "execution_count": 11,
     "metadata": {},
     "output_type": "execute_result"
    }
   ],
   "source": [
    "#сокращаем весь датасет до двух цифр\n",
    "train=train[one_two_ind]\n",
    "y_train=train_label[one_two_ind]\n",
    "y_train"
   ]
  },
  {
   "cell_type": "code",
   "execution_count": null,
   "metadata": {},
   "outputs": [],
   "source": []
  },
  {
   "cell_type": "code",
   "execution_count": null,
   "metadata": {},
   "outputs": [],
   "source": []
  },
  {
   "cell_type": "markdown",
   "metadata": {},
   "source": [
    "## Разбиваем выборку на обучение и валидацию"
   ]
  },
  {
   "cell_type": "code",
   "execution_count": 12,
   "metadata": {},
   "outputs": [],
   "source": [
    "from sklearn.model_selection import train_test_split\n"
   ]
  },
  {
   "cell_type": "code",
   "execution_count": 13,
   "metadata": {},
   "outputs": [],
   "source": [
    "y_train, y_val, x_train, x_val = train_test_split(\n",
    "    y_train, train, test_size=0.2, random_state=42)"
   ]
  },
  {
   "cell_type": "markdown",
   "metadata": {},
   "source": [
    "## Попробую с бинаризацией. С ней и без нее отношения условных вероятностей уходят в бесконечность"
   ]
  },
  {
   "cell_type": "code",
   "execution_count": 14,
   "metadata": {},
   "outputs": [],
   "source": [
    "x_train, x_val =np.sign(x_train), np.sign(x_val)"
   ]
  },
  {
   "cell_type": "code",
   "execution_count": 15,
   "metadata": {},
   "outputs": [],
   "source": [
    "x_train=torch.tensor(x_train)\n",
    "x_val=torch.tensor(x_val)"
   ]
  },
  {
   "cell_type": "code",
   "execution_count": 16,
   "metadata": {},
   "outputs": [
    {
     "name": "stderr",
     "output_type": "stream",
     "text": [
      "/home/zamarseny/anaconda3/envs/nlp/lib/python3.6/site-packages/ipykernel_launcher.py:1: UserWarning: To copy construct from a tensor, it is recommended to use sourceTensor.clone().detach() or sourceTensor.clone().detach().requires_grad_(True), rather than torch.tensor(sourceTensor).\n",
      "  \"\"\"Entry point for launching an IPython kernel.\n",
      "/home/zamarseny/anaconda3/envs/nlp/lib/python3.6/site-packages/ipykernel_launcher.py:2: UserWarning: To copy construct from a tensor, it is recommended to use sourceTensor.clone().detach() or sourceTensor.clone().detach().requires_grad_(True), rather than torch.tensor(sourceTensor).\n",
      "  \n"
     ]
    }
   ],
   "source": [
    "training_tensor_2 = torch.tensor(x_train[np.where(y_train==2)])\n",
    "training_tensor_1 = torch.tensor(x_train[np.where(y_train==1)])"
   ]
  },
  {
   "cell_type": "code",
   "execution_count": 17,
   "metadata": {},
   "outputs": [],
   "source": [
    "r=training_tensor_2.reshape(-1,28,28).mean(dim=0)\n",
    "g=training_tensor_1.reshape(-1,28,28).mean(dim=0)\n",
    "b=np.zeros(g.shape)\n",
    "img2=np.concatenate((r, g), axis=0)\n",
    "#img=np.stack((r, g, b), axis=0)\n",
    "img=np.stack((r, g, b), axis=2)"
   ]
  },
  {
   "cell_type": "code",
   "execution_count": 18,
   "metadata": {},
   "outputs": [
    {
     "name": "stdout",
     "output_type": "stream",
     "text": [
      "(28, 28, 3) torch.Size([28, 28])\n"
     ]
    },
    {
     "data": {
      "image/png": "[encoded data removed]",
      "text/plain": [
       "<Figure size 1440x720 with 2 Axes>"
      ]
     },
     "metadata": {
      "needs_background": "light"
     },
     "output_type": "display_data"
    }
   ],
   "source": [
    "print(img.shape, r.shape)\n",
    "#plt.imshow(img, cmap='gray');\n",
    "#plt.imshow(img)\n",
    "#plt.imshow(img2);\n",
    "\n",
    "fig = plt.figure(figsize=(20, 10))\n",
    "subplot = fig.add_subplot(1, 2, 1)\n",
    "plt.imshow(img);\n",
    "subplot.set_title('Red = 2, Green = 1, yellow- mix');\n",
    "subplot = fig.add_subplot(1, 2, 2)\n",
    "plt.imshow(img2);\n",
    "subplot.set_title('mean 1 and 2');"
   ]
  },
  {
   "cell_type": "code",
   "execution_count": 46,
   "metadata": {},
   "outputs": [],
   "source": [
    "#очень хорошо видно какие пикселы увеличат вероятность двойки (красные по бокам), \n",
    "#какие единицы (зеленые в центре)"
   ]
  },
  {
   "cell_type": "code",
   "execution_count": 19,
   "metadata": {},
   "outputs": [
    {
     "data": {
      "text/plain": [
       "(torch.Size([28, 28]), torch.Size([28, 28]))"
      ]
     },
     "execution_count": 19,
     "metadata": {},
     "output_type": "execute_result"
    }
   ],
   "source": [
    "r.shape, g.shape"
   ]
  },
  {
   "cell_type": "code",
   "execution_count": 20,
   "metadata": {},
   "outputs": [
    {
     "data": {
      "text/plain": [
       "torch.Size([3352, 784])"
      ]
     },
     "execution_count": 20,
     "metadata": {},
     "output_type": "execute_result"
    }
   ],
   "source": [
    "training_tensor_2.shape"
   ]
  },
  {
   "cell_type": "code",
   "execution_count": null,
   "metadata": {},
   "outputs": [],
   "source": [
    "#вычисляю условные вероятности зажигания пикселей при выпадении 1 или 2"
   ]
  },
  {
   "cell_type": "code",
   "execution_count": 21,
   "metadata": {},
   "outputs": [],
   "source": [
    "p_pix_2 = training_tensor_2.sum(dim=0) / training_tensor_2.sum()\n",
    "p_pix_1 = training_tensor_1.sum(dim=0) / training_tensor_1.sum()"
   ]
  },
  {
   "cell_type": "code",
   "execution_count": 24,
   "metadata": {
    "scrolled": false
   },
   "outputs": [],
   "source": [
    "#p_pix_2#.shape"
   ]
  },
  {
   "cell_type": "code",
   "execution_count": 25,
   "metadata": {},
   "outputs": [],
   "source": [
    "#вероятности классов\n",
    "p_2 = ((y_train == 2)*1).sum() / len(y_train)\n",
    "p_1 = ((y_train == 1)*1).sum() / len(y_train)"
   ]
  },
  {
   "cell_type": "code",
   "execution_count": 26,
   "metadata": {},
   "outputs": [
    {
     "data": {
      "text/plain": [
       "(0.4729119638826185, 0.5270880361173815)"
      ]
     },
     "execution_count": 26,
     "metadata": {},
     "output_type": "execute_result"
    }
   ],
   "source": [
    "p_2, p_1"
   ]
  },
  {
   "cell_type": "code",
   "execution_count": null,
   "metadata": {},
   "outputs": [],
   "source": [
    "#((y_train == 2)*1).sum()"
   ]
  },
  {
   "cell_type": "code",
   "execution_count": null,
   "metadata": {},
   "outputs": [],
   "source": []
  },
  {
   "cell_type": "code",
   "execution_count": 27,
   "metadata": {},
   "outputs": [],
   "source": [
    "#b=0.001 #{Хотел добавить смещение, но и без него работает}\n",
    "#вероятность класса \"2\" при выпадении х на трэйне\n",
    "p_2_x=torch.zeros(x_train.shape[0])\n",
    "for i in range(len(x_train)):\n",
    "    #p_2_x_i_div_by_p_1_x_i=((x_train[i]*p_pix_2)[np.where(x_train[i] >0)]\\\n",
    "    #/(x_train[i]*p_pix_1)[np.where(x_train[i] >0)]+b)\\\n",
    "    #.log().sum()\n",
    "    #p_2_x[i]=p_2_x_i.item()\n",
    "    \n",
    "    ln_p_2_x_i_div_by_p_1_x_i=np.log(p_2/p_1)+((x_train[i]*p_pix_2)[np.where(x_train[i] >0)]\\\n",
    "    /(x_train[i]*p_pix_1)[np.where(x_train[i] >0)])\\\n",
    "    .log().sum()\n",
    "    \n",
    "    #ln_p_2_x_i_div_by_p_1_x_i=np.log(p_2/p_1)+((x_train[i]*p_pix_2)\\\n",
    "    #/(x_train[i]*p_pix_1))\\\n",
    "    #.log().sum()\n",
    "\n",
    "    p_2_x[i]=ln_p_2_x_i_div_by_p_1_x_i.item()"
   ]
  },
  {
   "cell_type": "code",
   "execution_count": 29,
   "metadata": {},
   "outputs": [],
   "source": [
    "#то же самое для теста\n",
    "p_2_x_test=torch.zeros(x_val.shape[0])\n",
    "for i in range(len(x_val)):\n",
    "    ln_p_2_x_i_div_by_p_1_x_i=np.log(p_2/p_1)+((x_val[i]*p_pix_2)[np.where(x_val[i] >0)]\\\n",
    "    /(x_val[i]*p_pix_1)[np.where(x_val[i] >0)])\\\n",
    "    .log().sum()\n",
    "    p_2_x_test[i]=ln_p_2_x_i_div_by_p_1_x_i.item()"
   ]
  },
  {
   "cell_type": "code",
   "execution_count": 30,
   "metadata": {},
   "outputs": [
    {
     "data": {
      "text/plain": [
       "5928"
      ]
     },
     "execution_count": 30,
     "metadata": {},
     "output_type": "execute_result"
    }
   ],
   "source": [
    "#np.where(y_train == 2)\n",
    "#x_train[i].shape,p_pix_2.shape\n",
    "#len(p_2_x), len(y_train), i, np.log(p_2/p_1)\n",
    "len(p_2_x[np.where(abs(p_2_x)<600)])"
   ]
  },
  {
   "cell_type": "code",
   "execution_count": 32,
   "metadata": {},
   "outputs": [],
   "source": [
    "#многие отношения вероятностей ушли в плюс/минус бесконечность"
   ]
  },
  {
   "cell_type": "code",
   "execution_count": 33,
   "metadata": {},
   "outputs": [
    {
     "data": {
      "text/plain": [
       "<matplotlib.collections.PathCollection at 0x7ff68d4e96d8>"
      ]
     },
     "execution_count": 33,
     "metadata": {},
     "output_type": "execute_result"
    },
    {
     "data": {
      "image/png": "[encoded data removed]",
      "text/plain": [
       "<Figure size 432x288 with 1 Axes>"
      ]
     },
     "metadata": {
      "needs_background": "light"
     },
     "output_type": "display_data"
    }
   ],
   "source": [
    "plt.scatter(y_train, p_2_x)"
   ]
  },
  {
   "cell_type": "code",
   "execution_count": 34,
   "metadata": {},
   "outputs": [
    {
     "data": {
      "text/plain": [
       "(array([2964.,  726.,  331.,  444.,  554.,  481.,  268.,  114.,   37.,\n",
       "           9.]),\n",
       " array([-88.02883 , -40.174213,   7.680402,  55.53502 , 103.38963 ,\n",
       "        151.24425 , 199.09886 , 246.95349 , 294.8081  , 342.66272 ,\n",
       "        390.51733 ], dtype=float32),\n",
       " <a list of 10 Patch objects>)"
      ]
     },
     "execution_count": 34,
     "metadata": {},
     "output_type": "execute_result"
    },
    {
     "data": {
      "image/png": "[encoded data removed]",
      "text/plain": [
       "<Figure size 432x288 with 1 Axes>"
      ]
     },
     "metadata": {
      "needs_background": "light"
     },
     "output_type": "display_data"
    }
   ],
   "source": [
    "plt.hist(p_2_x[np.where(abs(p_2_x)!=np.inf)])"
   ]
  },
  {
   "cell_type": "code",
   "execution_count": null,
   "metadata": {},
   "outputs": [],
   "source": [
    "#большая часть (от неушедших в бесконесчность) отношений лежит в диапазоне (-100,0)"
   ]
  },
  {
   "cell_type": "code",
   "execution_count": 36,
   "metadata": {},
   "outputs": [],
   "source": [
    "#предсказание классификатора для трэйна. b - пороговое значение\n",
    "b=0\n",
    "y_pred=np.zeros(y_train.shape)\n",
    "y_pred[np.where(p_2_x<b)]=1\n",
    "y_pred[np.where(p_2_x>=b)]=2"
   ]
  },
  {
   "cell_type": "code",
   "execution_count": 37,
   "metadata": {},
   "outputs": [],
   "source": [
    "y_pred_val=np.zeros(y_val.shape)\n",
    "y_pred_val[np.where(p_2_x_test<b)]=1\n",
    "y_pred_val[np.where(p_2_x_test>b)]=2"
   ]
  },
  {
   "cell_type": "code",
   "execution_count": 38,
   "metadata": {},
   "outputs": [
    {
     "data": {
      "text/plain": [
       "(array([3736.,    0.,    0.,    0.,    0.,    0.,    0.,    0.,    0.,\n",
       "        3352.]),\n",
       " array([1. , 1.1, 1.2, 1.3, 1.4, 1.5, 1.6, 1.7, 1.8, 1.9, 2. ]),\n",
       " <a list of 10 Patch objects>)"
      ]
     },
     "execution_count": 38,
     "metadata": {},
     "output_type": "execute_result"
    },
    {
     "data": {
      "image/png": "[encoded data removed]",
      "text/plain": [
       "<Figure size 432x288 with 1 Axes>"
      ]
     },
     "metadata": {
      "needs_background": "light"
     },
     "output_type": "display_data"
    }
   ],
   "source": [
    "#plt.hist(y_pred)\n",
    "plt.hist(y_train)"
   ]
  },
  {
   "cell_type": "code",
   "execution_count": 39,
   "metadata": {},
   "outputs": [
    {
     "name": "stdout",
     "output_type": "stream",
     "text": [
      "train_accuracy= 0.9712189616252822\n"
     ]
    }
   ],
   "source": [
    "#считаем точность на трэйне и смотрим индексы неверно классифицированных цифр\n",
    "correct=0\n",
    "incorr_ind=[]\n",
    "nmb=0\n",
    "for i in zip(y_pred, y_train):\n",
    "        if i[1]==i[0]:\n",
    "            correct+=1\n",
    "        else:\n",
    "            incorr_ind.append(nmb)\n",
    "        nmb+=1\n",
    "        #print(i[1])\n",
    "print('train_accuracy=', correct/len(y_train))\n"
   ]
  },
  {
   "cell_type": "code",
   "execution_count": 40,
   "metadata": {},
   "outputs": [
    {
     "name": "stdout",
     "output_type": "stream",
     "text": [
      "test_accuracy= 0.9678510998307953\n"
     ]
    }
   ],
   "source": [
    "#аналогично для теста\n",
    "correct=0\n",
    "incorr_ind=[]\n",
    "nmb=0\n",
    "for i in zip(y_pred_val, y_val):\n",
    "        if i[1]==i[0]:\n",
    "            correct+=1\n",
    "        else:\n",
    "            incorr_ind.append(nmb)\n",
    "        nmb+=1\n",
    "        #print(i[1])\n",
    "print('test_accuracy=', correct/len(y_val))\n"
   ]
  },
  {
   "cell_type": "code",
   "execution_count": 42,
   "metadata": {},
   "outputs": [],
   "source": [
    "#удивительно, что наугад выбранное смещение =0 дало такую точность"
   ]
  },
  {
   "cell_type": "code",
   "execution_count": 43,
   "metadata": {},
   "outputs": [
    {
     "data": {
      "text/plain": [
       "57"
      ]
     },
     "execution_count": 43,
     "metadata": {},
     "output_type": "execute_result"
    }
   ],
   "source": [
    "len(incorr_ind)\n",
    "#y_pred[incorr_ind], y_train[incorr_ind]"
   ]
  },
  {
   "cell_type": "markdown",
   "metadata": {},
   "source": [
    "## Визуализируем ошибки классификатора"
   ]
  },
  {
   "cell_type": "code",
   "execution_count": 44,
   "metadata": {},
   "outputs": [
    {
     "name": "stderr",
     "output_type": "stream",
     "text": [
      "/home/zamarseny/anaconda3/envs/nlp/lib/python3.6/site-packages/torch/tensor.py:287: UserWarning: non-inplace resize is deprecated\n",
      "  warnings.warn(\"non-inplace resize is deprecated\")\n"
     ]
    },
    {
     "data": {
      "text/plain": [
       "(torch.Size([57, 28, 28]), (57,))"
      ]
     },
     "execution_count": 44,
     "metadata": {},
     "output_type": "execute_result"
    }
   ],
   "source": [
    "y_pred_val_wrong=y_pred_val[incorr_ind]\n",
    "x_val_wrong=x_val[incorr_ind].resize(x_val[incorr_ind].shape[0],28,28)\n",
    "x_val_wrong.shape, y_pred_val_wrong.shape"
   ]
  },
  {
   "cell_type": "code",
   "execution_count": 45,
   "metadata": {},
   "outputs": [
    {
     "data": {
      "image/png": "[encoded data removed]",
      "text/plain": [
       "<Figure size 1440x720 with 10 Axes>"
      ]
     },
     "metadata": {
      "needs_background": "light"
     },
     "output_type": "display_data"
    }
   ],
   "source": [
    "fig = plt.figure(figsize=(20, 10))\n",
    "for i, img in enumerate(x_val_wrong[0:10], 1):\n",
    "    subplot = fig.add_subplot(1, 10, i)\n",
    "    plt.imshow(img, cmap='gray');\n",
    "    subplot.set_title('%s' % y_pred_val_wrong[i - 1]);"
   ]
  },
  {
   "cell_type": "code",
   "execution_count": null,
   "metadata": {},
   "outputs": [],
   "source": [
    "# видно, что неправильно классифицируются сильно наклоненные единицы и слишком тонкие двойки"
   ]
  },
  {
   "cell_type": "code",
   "execution_count": null,
   "metadata": {},
   "outputs": [],
   "source": [
    "#КОНЕЦ РЕШЕНИЯ"
   ]
  },
  {
   "cell_type": "code",
   "execution_count": null,
   "metadata": {},
   "outputs": [],
   "source": []
  },
  {
   "cell_type": "code",
   "execution_count": null,
   "metadata": {},
   "outputs": [],
   "source": []
  },
  {
   "cell_type": "code",
   "execution_count": null,
   "metadata": {},
   "outputs": [],
   "source": []
  },
  {
   "cell_type": "code",
   "execution_count": null,
   "metadata": {},
   "outputs": [],
   "source": []
  },
  {
   "cell_type": "code",
   "execution_count": null,
   "metadata": {},
   "outputs": [],
   "source": []
  },
  {
   "cell_type": "code",
   "execution_count": null,
   "metadata": {},
   "outputs": [],
   "source": []
  },
  {
   "cell_type": "code",
   "execution_count": null,
   "metadata": {},
   "outputs": [],
   "source": []
  },
  {
   "cell_type": "code",
   "execution_count": null,
   "metadata": {},
   "outputs": [],
   "source": []
  },
  {
   "cell_type": "code",
   "execution_count": null,
   "metadata": {},
   "outputs": [],
   "source": [
    "#Just to be shure, that it can work - fit SKlearn Naive Bayes Classifier\n",
    "from sklearn.naive_bayes import GaussianNB\n",
    "gnb = GaussianNB()\n",
    "y_pred = gnb.fit(x_train, y_train).predict(x_val)\n",
    "print(\"Number of mislabeled points out of a total %d points : %d\"\n",
    "       % (x_val.shape[0], (y_val != y_pred).sum()))"
   ]
  },
  {
   "cell_type": "code",
   "execution_count": null,
   "metadata": {},
   "outputs": [],
   "source": [
    "#y_pred, y_val\n",
    "#len((y_pred==y_val)*1), sum(y_pred==y_val)"
   ]
  },
  {
   "cell_type": "code",
   "execution_count": null,
   "metadata": {},
   "outputs": [],
   "source": [
    "print('Accuaracy=', sum(y_pred==y_val)/len(y_pred))"
   ]
  },
  {
   "cell_type": "code",
   "execution_count": null,
   "metadata": {},
   "outputs": [],
   "source": [
    "wrong_=(y_pred!=y_val)\n",
    "np.where(wrong_==True)"
   ]
  },
  {
   "cell_type": "code",
   "execution_count": null,
   "metadata": {},
   "outputs": [],
   "source": []
  },
  {
   "cell_type": "code",
   "execution_count": null,
   "metadata": {},
   "outputs": [],
   "source": [
    "wrong_class = np.resize(x_val[np.where(wrong_==True)], (x_val.shape[0], 28, 28))\n",
    "wrong_label=y_pred[np.where(wrong_==True)]"
   ]
  },
  {
   "cell_type": "code",
   "execution_count": null,
   "metadata": {
    "scrolled": true
   },
   "outputs": [],
   "source": [
    "wrong_label"
   ]
  },
  {
   "cell_type": "code",
   "execution_count": null,
   "metadata": {},
   "outputs": [],
   "source": []
  },
  {
   "cell_type": "code",
   "execution_count": null,
   "metadata": {},
   "outputs": [],
   "source": [
    "$P(two|pixel)=\\frac{P(pixel|two)P(two)}{P(pixel)}$\n",
    "\n",
    "#$P(two|pixel)=\\frac{P(pixel_1|two)P(pixel_2|two)...P(pixel_n|two)P(two)}{P(w_1)P(pixel_2)...P(pixel_n)}$"
   ]
  },
  {
   "cell_type": "code",
   "execution_count": null,
   "metadata": {},
   "outputs": [],
   "source": []
  },
  {
   "cell_type": "code",
   "execution_count": null,
   "metadata": {},
   "outputs": [],
   "source": []
  }
 ],
 "metadata": {
  "kernelspec": {
   "display_name": "Python 3",
   "language": "python",
   "name": "python3"
  },
  "language_info": {
   "codemirror_mode": {
    "name": "ipython",
    "version": 3
   },
   "file_extension": ".py",
   "mimetype": "text/x-python",
   "name": "python",
   "nbconvert_exporter": "python",
   "pygments_lexer": "ipython3",
   "version": "3.6.8"
  }
 },
 "nbformat": 4,
 "nbformat_minor": 2
}
